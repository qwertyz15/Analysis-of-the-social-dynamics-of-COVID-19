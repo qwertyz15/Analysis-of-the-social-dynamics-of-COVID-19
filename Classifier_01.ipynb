{
  "nbformat": 4,
  "nbformat_minor": 0,
  "metadata": {
    "colab": {
      "name": "Classifier 01.ipynb",
      "provenance": [],
      "collapsed_sections": []
    },
    "kernelspec": {
      "name": "python3",
      "display_name": "Python 3"
    },
    "accelerator": "GPU"
  },
  "cells": [
    {
      "cell_type": "code",
      "metadata": {
        "id": "ZFc1f48FWL26",
        "colab": {
          "base_uri": "https://localhost:8080/",
          "height": 34
        },
        "outputId": "febcfb4d-13d9-4115-f120-9be8348813a0"
      },
      "source": [
        "#Mount the google drive\n",
        "from google.colab import drive\n",
        "drive.mount('/content/drive')\n",
        "# Import Necessary libraries\n",
        "import os \n",
        "\n",
        "# Set Directory path for Dataset\n",
        "os.chdir(\"/content/drive/My Drive/\")"
      ],
      "execution_count": null,
      "outputs": [
        {
          "output_type": "stream",
          "text": [
            "Drive already mounted at /content/drive; to attempt to forcibly remount, call drive.mount(\"/content/drive\", force_remount=True).\n"
          ],
          "name": "stdout"
        }
      ]
    },
    {
      "cell_type": "code",
      "metadata": {
        "id": "PQa27q4y6vQk"
      },
      "source": [
        "import pandas as pd\n",
        "import numpy as np\n",
        "import pickle\n",
        "df_stemmed_bn = pd.read_pickle('df_stemmed_bn.pkl')\n",
        "data = pd.read_pickle('NewspaperBD.pkl')"
      ],
      "execution_count": null,
      "outputs": []
    },
    {
      "cell_type": "code",
      "metadata": {
        "id": "hBzTtHOvi3YE",
        "colab": {
          "base_uri": "https://localhost:8080/",
          "height": 406
        },
        "outputId": "c5046b2a-3edc-4288-cbc1-13f5782d7a89"
      },
      "source": [
        "df_stemmed_bn"
      ],
      "execution_count": null,
      "outputs": [
        {
          "output_type": "execute_result",
          "data": {
            "text/html": [
              "<div>\n",
              "<style scoped>\n",
              "    .dataframe tbody tr th:only-of-type {\n",
              "        vertical-align: middle;\n",
              "    }\n",
              "\n",
              "    .dataframe tbody tr th {\n",
              "        vertical-align: top;\n",
              "    }\n",
              "\n",
              "    .dataframe thead th {\n",
              "        text-align: right;\n",
              "    }\n",
              "</style>\n",
              "<table border=\"1\" class=\"dataframe\">\n",
              "  <thead>\n",
              "    <tr style=\"text-align: right;\">\n",
              "      <th></th>\n",
              "      <th>Text_en</th>\n",
              "      <th>Text_bn</th>\n",
              "      <th>text_en_clean</th>\n",
              "      <th>text_en_clean_2</th>\n",
              "      <th>text_en_clean_3</th>\n",
              "      <th>text_en_clean_4</th>\n",
              "    </tr>\n",
              "  </thead>\n",
              "  <tbody>\n",
              "    <tr>\n",
              "      <th>0</th>\n",
              "      <td>Highest number of Covid-19 deaths in a day. Ni...</td>\n",
              "      <td>একদিনে কোভিড -১৯ এর সর্বোচ্চ সংখ্যা। স্বাস্থ্য...</td>\n",
              "      <td>একদিন কোভিড এর সর্বোচ্চ সংখ্যা স্বাস্থ্য সেবা ...</td>\n",
              "      <td>সর্বোচ্চ সংখ্যা স্বাস্থ্য অধিদপ্তর মহাপরিচালক ...</td>\n",
              "      <td>সর্বোচ্চ সংখ্যা স্বাস্থ্য অধিদপ্তর মহাপরিচালক ...</td>\n",
              "      <td>[সর্বোচ্চ, স্বাস্থ্য, অধিদপ্তর, মহাপরিচালক, ডি...</td>\n",
              "    </tr>\n",
              "    <tr>\n",
              "      <th>1</th>\n",
              "      <td>Thrown out of job, Tangail’s chamcham makers p...</td>\n",
              "      <td>চাকরি থেকে ছিটকে পড়ে, টাঙ্গাইলের চামচাম নির্ম...</td>\n",
              "      <td>চাকরি থেকে ছিটকে পড়ে টাঙ্গাইল চামচাম নির্মাতা...</td>\n",
              "      <td>টাঙ্গাইল চামচাম নির্মাতা প্রাদুর্ভাব লকডাউন বি...</td>\n",
              "      <td>টাঙ্গাইল চামচাম নির্মাতা প্রাদুর্ভাব লকডাউন বি...</td>\n",
              "      <td>[টাঙ্গাইল, চামচাম, নির্মাতা, প্রাদুর্ভাব, লকডা...</td>\n",
              "    </tr>\n",
              "    <tr>\n",
              "      <th>2</th>\n",
              "      <td>Coping with Covid-19 Shutdown: 200 families re...</td>\n",
              "      <td>কোভিড -19 শাটডাউন মোকাবেলা: 200 পরিবার উদ্যানে...</td>\n",
              "      <td>কোভিড শাটডাউন মোকাবেলা পরিবার উদ্যান সুবিধা অর...</td>\n",
              "      <td>শাটডাউন মোকাবেলা পরিবার উদ্যান সুবিধা মাসব্যাপ...</td>\n",
              "      <td>শাটডাউন মোকাবেলা পরিবার উদ্যান সুবিধা মাসব্যাপ...</td>\n",
              "      <td>[শাটডাউন, মোকাবেলা, পরিবার, উদ্যান, সুবিধা, মা...</td>\n",
              "    </tr>\n",
              "    <tr>\n",
              "      <th>3</th>\n",
              "      <td>7 family members, 4 police personnel test posi...</td>\n",
              "      <td>বগুড়ার কোভিড -১৯ এর জন্য পরিবারের family সদস্...</td>\n",
              "      <td>বগুড়া কোভিড এর জন্য পরিবার সদস্য জন পুলিশ সদস...</td>\n",
              "      <td>বগুড়া পরিবার পজিটিভ পরীক্ষা করেছেন কমপক্ষ বোগ...</td>\n",
              "      <td>বগুড়া পরিবার পজিটিভ পরীক্ষা করেছেন কমপক্ষ বোগ...</td>\n",
              "      <td>[বগুড়া, পরিবার, পজিটিভ, পরীক্ষা, কমপক্ষ, বোগু...</td>\n",
              "    </tr>\n",
              "    <tr>\n",
              "      <th>4</th>\n",
              "      <td>Coronavirus: Health ministry issues 13 directi...</td>\n",
              "      <td>করোনাভাইরাস: স্বাস্থ্য মন্ত্রনালয় সরকারি কর্ম...</td>\n",
              "      <td>করোনাভাইরাস স্বাস্থ্য মন্ত্রনালয় সরকারি কর্মক...</td>\n",
              "      <td>করোনাভাইরাস স্বাস্থ্য মন্ত্রনালয় সরকারি কর্মক...</td>\n",
              "      <td>করোনাভাইরাস স্বাস্থ্য মন্ত্রনালয় সরকারি কর্মক...</td>\n",
              "      <td>[করোনাভাইরাস, স্বাস্থ্য, মন্ত্রনালয়, সরকারি, ...</td>\n",
              "    </tr>\n",
              "    <tr>\n",
              "      <th>...</th>\n",
              "      <td>...</td>\n",
              "      <td>...</td>\n",
              "      <td>...</td>\n",
              "      <td>...</td>\n",
              "      <td>...</td>\n",
              "      <td>...</td>\n",
              "    </tr>\n",
              "    <tr>\n",
              "      <th>15560</th>\n",
              "      <td>The number of victims and deaths is increasing...</td>\n",
              "      <td>লাফিয়ে বাড়ছে আক্রান্ত ও মৃতের সংখ্যা| চীনে করো...</td>\n",
              "      <td>লাফিয় বাড়ছে আক্রান্ত ও মৃতের সংখ্যা চীনে করোনা...</td>\n",
              "      <td>আক্রান্ত সংখ্যা করোনাভাইরাসের সংক্রমণ নজিরবিহী...</td>\n",
              "      <td>আক্রান্ত সংখ্যা করোনাভাইরাসের সংক্রমণ নজিরবিহী...</td>\n",
              "      <td>[সংক্রমণ, নজিরবিহীন, প্রতিরোধমূলক, ব্যবস্থা, স...</td>\n",
              "    </tr>\n",
              "    <tr>\n",
              "      <th>15561</th>\n",
              "      <td>India returns passengers in fear of coronaviru...</td>\n",
              "      <td>করোনাভাইরাস আতঙ্কে যাত্রী ফেরত দিয়েছে ভারত| কর...</td>\n",
              "      <td>করোনাভাইরাস আতঙ্ক যাত্রী ফেরত দিয়েছে ভারত করোন...</td>\n",
              "      <td>করোনাভাইরাস যাত্রী দিয়েছে করোনাভাইরাস বাংলাদেশ...</td>\n",
              "      <td>করোনাভাইরাস যাত্রী দিয়েছে করোনাভাইরাস বাংলাদেশ...</td>\n",
              "      <td>[করোনাভাইরাস, যাত্রী, করোনাভাইরাস, পাসপোর্ট, ন...</td>\n",
              "    </tr>\n",
              "    <tr>\n",
              "      <th>15562</th>\n",
              "      <td>Instructions to bring back the Bangladeshis tr...</td>\n",
              "      <td>চীনে আটকে পড়া বাংলাদেশিদের ফিরিয়ে আনার নির্দেশ...</td>\n",
              "      <td>চীনে আটকে পড়া বাংলাদেশিদের ফিরিয় আনার নির্দেশ ...</td>\n",
              "      <td>বাংলাদেশিদের নির্দেশ প্রধানমন্ত্রী হাসিনা মারা...</td>\n",
              "      <td>বাংলাদেশিদের নির্দেশ প্রধানমন্ত্রী হাসিনা মারা...</td>\n",
              "      <td>[নির্দেশ, প্রধানমন্ত্রী, হাসিনা, মারাত্মক, করো...</td>\n",
              "    </tr>\n",
              "    <tr>\n",
              "      <th>15563</th>\n",
              "      <td>Coronavirus: Control room opened in the Depart...</td>\n",
              "      <td>করোনাভাইরাস : স্বাস্থ্য অধিদপ্তরে কন্ট্রোল রুম...</td>\n",
              "      <td>করোনাভাইরাস স্বাস্থ্য অধিদপ্তর কন্ট্রোল রুম চা...</td>\n",
              "      <td>করোনাভাইরাস স্বাস্থ্য অধিদপ্তর কন্ট্রোল করোনাভ...</td>\n",
              "      <td>করোনাভাইরাস স্বাস্থ্য অধিদপ্তর কন্ট্রোল করোনাভ...</td>\n",
              "      <td>[করোনাভাইরাস, স্বাস্থ্য, অধিদপ্তর, কন্ট্রোল, ক...</td>\n",
              "    </tr>\n",
              "    <tr>\n",
              "      <th>15564</th>\n",
              "      <td>Coronavirus: Warning at several borders. A war...</td>\n",
              "      <td>করোনাভাইরাস : বেশ কয়েকটি সীমান্তে সতর্কবস্থা| ...</td>\n",
              "      <td>করোনাভাইরাস বেশ কয়েকটি সীমান্ত সতর্কবস্থা করোন...</td>\n",
              "      <td>করোনাভাইরাস কয়েকটি সীমান্ত সতর্কবস্থা করোনাভাই...</td>\n",
              "      <td>করোনাভাইরাস কয়েকটি সীমান্ত সতর্কবস্থা করোনাভাই...</td>\n",
              "      <td>[করোনাভাইরাস, সীমান্ত, সতর্কবস্থা, করোনাভাইরাস...</td>\n",
              "    </tr>\n",
              "  </tbody>\n",
              "</table>\n",
              "<p>15565 rows × 6 columns</p>\n",
              "</div>"
            ],
            "text/plain": [
              "                                                 Text_en  ...                                    text_en_clean_4\n",
              "0      Highest number of Covid-19 deaths in a day. Ni...  ...  [সর্বোচ্চ, স্বাস্থ্য, অধিদপ্তর, মহাপরিচালক, ডি...\n",
              "1      Thrown out of job, Tangail’s chamcham makers p...  ...  [টাঙ্গাইল, চামচাম, নির্মাতা, প্রাদুর্ভাব, লকডা...\n",
              "2      Coping with Covid-19 Shutdown: 200 families re...  ...  [শাটডাউন, মোকাবেলা, পরিবার, উদ্যান, সুবিধা, মা...\n",
              "3      7 family members, 4 police personnel test posi...  ...  [বগুড়া, পরিবার, পজিটিভ, পরীক্ষা, কমপক্ষ, বোগু...\n",
              "4      Coronavirus: Health ministry issues 13 directi...  ...  [করোনাভাইরাস, স্বাস্থ্য, মন্ত্রনালয়, সরকারি, ...\n",
              "...                                                  ...  ...                                                ...\n",
              "15560  The number of victims and deaths is increasing...  ...  [সংক্রমণ, নজিরবিহীন, প্রতিরোধমূলক, ব্যবস্থা, স...\n",
              "15561  India returns passengers in fear of coronaviru...  ...  [করোনাভাইরাস, যাত্রী, করোনাভাইরাস, পাসপোর্ট, ন...\n",
              "15562  Instructions to bring back the Bangladeshis tr...  ...  [নির্দেশ, প্রধানমন্ত্রী, হাসিনা, মারাত্মক, করো...\n",
              "15563  Coronavirus: Control room opened in the Depart...  ...  [করোনাভাইরাস, স্বাস্থ্য, অধিদপ্তর, কন্ট্রোল, ক...\n",
              "15564  Coronavirus: Warning at several borders. A war...  ...  [করোনাভাইরাস, সীমান্ত, সতর্কবস্থা, করোনাভাইরাস...\n",
              "\n",
              "[15565 rows x 6 columns]"
            ]
          },
          "metadata": {
            "tags": []
          },
          "execution_count": 33
        }
      ]
    },
    {
      "cell_type": "code",
      "metadata": {
        "id": "O3M2ETcFkH8N",
        "colab": {
          "base_uri": "https://localhost:8080/",
          "height": 723
        },
        "outputId": "0ae4b39e-82c2-4033-f91f-3e0e5a9ac687"
      },
      "source": [
        "data"
      ],
      "execution_count": null,
      "outputs": [
        {
          "output_type": "execute_result",
          "data": {
            "text/html": [
              "<div>\n",
              "<style scoped>\n",
              "    .dataframe tbody tr th:only-of-type {\n",
              "        vertical-align: middle;\n",
              "    }\n",
              "\n",
              "    .dataframe tbody tr th {\n",
              "        vertical-align: top;\n",
              "    }\n",
              "\n",
              "    .dataframe thead th {\n",
              "        text-align: right;\n",
              "    }\n",
              "</style>\n",
              "<table border=\"1\" class=\"dataframe\">\n",
              "  <thead>\n",
              "    <tr style=\"text-align: right;\">\n",
              "      <th></th>\n",
              "      <th>Url</th>\n",
              "      <th>News Paper Name</th>\n",
              "      <th>Publish Date</th>\n",
              "      <th>State</th>\n",
              "      <th>City</th>\n",
              "      <th>Country</th>\n",
              "      <th>Headline of the article in Bengali</th>\n",
              "      <th>Headline of the article in English</th>\n",
              "      <th>Text of the Article</th>\n",
              "      <th>Summarry of the Article</th>\n",
              "      <th>Category</th>\n",
              "      <th>Sub-category</th>\n",
              "      <th>Dominant Topic</th>\n",
              "    </tr>\n",
              "  </thead>\n",
              "  <tbody>\n",
              "    <tr>\n",
              "      <th>0</th>\n",
              "      <td>https://www.thedailystar.net/coronavirus-updat...</td>\n",
              "      <td>The Daily Star</td>\n",
              "      <td>2020-05-13 13:28:15+06:00</td>\n",
              "      <td>Chittagong</td>\n",
              "      <td>Chittagong</td>\n",
              "      <td>Bangladesh</td>\n",
              "      <td>একদিনে কোভিড -১৯ এর সর্বোচ্চ সংখ্যা</td>\n",
              "      <td>Highest number of Covid-19 deaths in a day</td>\n",
              "      <td>Nineteen people -- the highest number in 24 ho...</td>\n",
              "      <td>Nineteen people -- the highest number in 24 ho...</td>\n",
              "      <td>Statistics</td>\n",
              "      <td>NaN</td>\n",
              "      <td>6</td>\n",
              "    </tr>\n",
              "    <tr>\n",
              "      <th>1</th>\n",
              "      <td>https://www.thedailystar.net/country/news/thro...</td>\n",
              "      <td>The Daily Star</td>\n",
              "      <td>2020-05-13 00:00:00+06:00</td>\n",
              "      <td>Dhaka</td>\n",
              "      <td>Dhaka</td>\n",
              "      <td>Bangladesh</td>\n",
              "      <td>চাকরি থেকে ছিটকে পড়ে, টাঙ্গাইলের চামচাম নির্ম...</td>\n",
              "      <td>Thrown out of job, Tangail’s chamcham makers p...</td>\n",
              "      <td>Around 1000 workers engaged in producing chamc...</td>\n",
              "      <td>As the chamcham shops are closed due to the lo...</td>\n",
              "      <td>COVID-19 Effects</td>\n",
              "      <td>Global economic impact of Corona virus</td>\n",
              "      <td>3</td>\n",
              "    </tr>\n",
              "    <tr>\n",
              "      <th>2</th>\n",
              "      <td>https://www.thedailystar.net/country/news/copi...</td>\n",
              "      <td>The Daily Star</td>\n",
              "      <td>2020-05-13 00:00:00+06:00</td>\n",
              "      <td>Chittagong</td>\n",
              "      <td>Chittagong</td>\n",
              "      <td>Bangladesh</td>\n",
              "      <td>কোভিড -১৯ শাটডাউন মোকাবেলা: ২০০ পরিবার উদ্যানে...</td>\n",
              "      <td>Coping with Covid-19 Shutdown: 200 families re...</td>\n",
              "      <td>Family squabbles were becoming all too common ...</td>\n",
              "      <td>The volunteer students, under the banner 'Sabu...</td>\n",
              "      <td>Social Information</td>\n",
              "      <td>Social impact</td>\n",
              "      <td>0</td>\n",
              "    </tr>\n",
              "    <tr>\n",
              "      <th>3</th>\n",
              "      <td>https://www.thedailystar.net/country/news/7-fa...</td>\n",
              "      <td>The Daily Star</td>\n",
              "      <td>2020-05-12 23:00:04+06:00</td>\n",
              "      <td>Dhaka</td>\n",
              "      <td>Dhaka</td>\n",
              "      <td>Bangladesh</td>\n",
              "      <td>বগুড়ার কোভিড -১৯ এর জন্য সাত পরিবারের সদস্য, ...</td>\n",
              "      <td>7 family members, 4 police personnel test posi...</td>\n",
              "      <td>At least eleven people tested positive for cor...</td>\n",
              "      <td>At least eleven people tested positive for cor...</td>\n",
              "      <td>COVID-19 Effects</td>\n",
              "      <td>Positive patient symptoms and identification</td>\n",
              "      <td>7</td>\n",
              "    </tr>\n",
              "    <tr>\n",
              "      <th>4</th>\n",
              "      <td>https://www.thedailystar.net/coronavirus-updat...</td>\n",
              "      <td>The Daily Star</td>\n",
              "      <td>2020-05-12 21:27:34+06:00</td>\n",
              "      <td>Dhaka</td>\n",
              "      <td>Dhaka</td>\n",
              "      <td>Bangladesh</td>\n",
              "      <td>করোনাভাইরাস: স্বাস্থ্য মন্ত্রনালয় সরকারি কর্ম...</td>\n",
              "      <td>Coronavirus: Health ministry issues 13 directi...</td>\n",
              "      <td>In an effort to contain the spread of coronovi...</td>\n",
              "      <td>In an effort to contain the spread of coronovi...</td>\n",
              "      <td>Government Announcement and responses</td>\n",
              "      <td>Government guidelines, instructions and mobili...</td>\n",
              "      <td>1</td>\n",
              "    </tr>\n",
              "    <tr>\n",
              "      <th>...</th>\n",
              "      <td>...</td>\n",
              "      <td>...</td>\n",
              "      <td>...</td>\n",
              "      <td>...</td>\n",
              "      <td>...</td>\n",
              "      <td>...</td>\n",
              "      <td>...</td>\n",
              "      <td>...</td>\n",
              "      <td>...</td>\n",
              "      <td>...</td>\n",
              "      <td>...</td>\n",
              "      <td>...</td>\n",
              "      <td>...</td>\n",
              "    </tr>\n",
              "    <tr>\n",
              "      <th>15560</th>\n",
              "      <td>https://www.kalerkantho.com/online/national/20...</td>\n",
              "      <td>Kaler Kantho</td>\n",
              "      <td>2020-01-28 02:00:00</td>\n",
              "      <td>NaN</td>\n",
              "      <td>Calcutta</td>\n",
              "      <td>India</td>\n",
              "      <td>লাফিয়ে বাড়ছে আক্রান্ত ও মৃতের সংখ্যা</td>\n",
              "      <td>The number of victims and deaths is increasing...</td>\n",
              "      <td>চীনে করোনাভাইরাসের সংক্রমণ ঠেকাতে নজিরবিহীন প্...</td>\n",
              "      <td>চীনে করোনাভাইরাসের সংক্রমণ ঠেকাতে নজিরবিহীন প্...</td>\n",
              "      <td>Statistics</td>\n",
              "      <td>NaN</td>\n",
              "      <td>5</td>\n",
              "    </tr>\n",
              "    <tr>\n",
              "      <th>15561</th>\n",
              "      <td>https://www.kalerkantho.com/online/national/20...</td>\n",
              "      <td>Kaler Kantho</td>\n",
              "      <td>2020-01-27 20:34:00</td>\n",
              "      <td>Feni</td>\n",
              "      <td>Chittagong</td>\n",
              "      <td>Bangladesh</td>\n",
              "      <td>করোনাভাইরাস আতঙ্কে যাত্রী ফেরত দিয়েছে ভারত</td>\n",
              "      <td>India returns passengers in fear of coronavirus</td>\n",
              "      <td>করোনাভাইরাস আতঙ্কে এক বাংলাদেশি পাসপোর্টধারী ন...</td>\n",
              "      <td>করোনাভাইরাস আতঙ্কে এক বাংলাদেশি পাসপোর্টধারী ন...</td>\n",
              "      <td>International Information</td>\n",
              "      <td>Repatriation</td>\n",
              "      <td>5</td>\n",
              "    </tr>\n",
              "    <tr>\n",
              "      <th>15562</th>\n",
              "      <td>https://www.kalerkantho.com/online/national/20...</td>\n",
              "      <td>Kaler Kantho</td>\n",
              "      <td>2020-01-27 18:06:00</td>\n",
              "      <td>Narayanganj</td>\n",
              "      <td>Dhaka</td>\n",
              "      <td>Bangladesh</td>\n",
              "      <td>চীনে আটকে পড়া বাংলাদেশিদের ফিরিয়ে আনার নির্দেশ</td>\n",
              "      <td>Instructions to bring back the Bangladeshis tr...</td>\n",
              "      <td>প্রধানমন্ত্রী শেখ হাসিনা মারাত্মক করোনাভাইরাস ...</td>\n",
              "      <td>প্রধানমন্ত্রী শেখ হাসিনা মারাত্মক করোনাভাইরাস ...</td>\n",
              "      <td>International Information</td>\n",
              "      <td>Repatriation</td>\n",
              "      <td>8</td>\n",
              "    </tr>\n",
              "    <tr>\n",
              "      <th>15563</th>\n",
              "      <td>https://www.kalerkantho.com/online/national/20...</td>\n",
              "      <td>Kaler Kantho</td>\n",
              "      <td>2020-01-26 18:01:00</td>\n",
              "      <td>Narayanganj</td>\n",
              "      <td>Dhaka</td>\n",
              "      <td>Bangladesh</td>\n",
              "      <td>করোনাভাইরাস : স্বাস্থ্য অধিদপ্তরে কন্ট্রোল রুম...</td>\n",
              "      <td>Coronavirus: Control room opened in the Depart...</td>\n",
              "      <td>দেশের বাইরে থেকে করোনাভাইরাস নিয়ে কেউ দেশে আস...</td>\n",
              "      <td>দেশের বাইরে থেকে করোনাভাইরাস নিয়ে কেউ দেশে আস...</td>\n",
              "      <td>Government Announcement and responses</td>\n",
              "      <td>Government guidelines, instructions and mobili...</td>\n",
              "      <td>4</td>\n",
              "    </tr>\n",
              "    <tr>\n",
              "      <th>15564</th>\n",
              "      <td>https://www.kalerkantho.com/online/national/20...</td>\n",
              "      <td>Kaler Kantho</td>\n",
              "      <td>2020-01-25 21:17:00</td>\n",
              "      <td>Dinajpur</td>\n",
              "      <td>Rangpur</td>\n",
              "      <td>Bangladesh</td>\n",
              "      <td>করোনাভাইরাস : বেশ কয়েকটি সীমান্তে সতর্কবস্থা</td>\n",
              "      <td>Coronavirus: Warning at several borders</td>\n",
              "      <td>করোনাভাইরাস নিয়ে যশোরের বেনাপোল ও দিনাজপুরের হ...</td>\n",
              "      <td>করোনাভাইরাস নিয়ে যশোরের বেনাপোল ও দিনাজপুরের হ...</td>\n",
              "      <td>Government Announcement and responses</td>\n",
              "      <td>Government guidelines, instructions and mobili...</td>\n",
              "      <td>5</td>\n",
              "    </tr>\n",
              "  </tbody>\n",
              "</table>\n",
              "<p>15565 rows × 13 columns</p>\n",
              "</div>"
            ],
            "text/plain": [
              "                                                     Url  ... Dominant Topic\n",
              "0      https://www.thedailystar.net/coronavirus-updat...  ...              6\n",
              "1      https://www.thedailystar.net/country/news/thro...  ...              3\n",
              "2      https://www.thedailystar.net/country/news/copi...  ...              0\n",
              "3      https://www.thedailystar.net/country/news/7-fa...  ...              7\n",
              "4      https://www.thedailystar.net/coronavirus-updat...  ...              1\n",
              "...                                                  ...  ...            ...\n",
              "15560  https://www.kalerkantho.com/online/national/20...  ...              5\n",
              "15561  https://www.kalerkantho.com/online/national/20...  ...              5\n",
              "15562  https://www.kalerkantho.com/online/national/20...  ...              8\n",
              "15563  https://www.kalerkantho.com/online/national/20...  ...              4\n",
              "15564  https://www.kalerkantho.com/online/national/20...  ...              5\n",
              "\n",
              "[15565 rows x 13 columns]"
            ]
          },
          "metadata": {
            "tags": []
          },
          "execution_count": 34
        }
      ]
    },
    {
      "cell_type": "code",
      "metadata": {
        "id": "LolqRHS7kgc1"
      },
      "source": [
        "df = pd.DataFrame(columns = ['article', 'label'])"
      ],
      "execution_count": null,
      "outputs": []
    },
    {
      "cell_type": "code",
      "metadata": {
        "id": "jbJ3DeRG77-4"
      },
      "source": [
        "df['article'] = df_stemmed_bn['text_en_clean_3'].copy()\n",
        "df['label'] = data['Dominant Topic'].copy()"
      ],
      "execution_count": null,
      "outputs": []
    },
    {
      "cell_type": "code",
      "metadata": {
        "id": "FuXvxKy98UIi",
        "colab": {
          "base_uri": "https://localhost:8080/",
          "height": 406
        },
        "outputId": "c1485e65-06b0-4f88-a8d5-d720bc37e839"
      },
      "source": [
        "df"
      ],
      "execution_count": null,
      "outputs": [
        {
          "output_type": "execute_result",
          "data": {
            "text/html": [
              "<div>\n",
              "<style scoped>\n",
              "    .dataframe tbody tr th:only-of-type {\n",
              "        vertical-align: middle;\n",
              "    }\n",
              "\n",
              "    .dataframe tbody tr th {\n",
              "        vertical-align: top;\n",
              "    }\n",
              "\n",
              "    .dataframe thead th {\n",
              "        text-align: right;\n",
              "    }\n",
              "</style>\n",
              "<table border=\"1\" class=\"dataframe\">\n",
              "  <thead>\n",
              "    <tr style=\"text-align: right;\">\n",
              "      <th></th>\n",
              "      <th>article</th>\n",
              "      <th>label</th>\n",
              "    </tr>\n",
              "  </thead>\n",
              "  <tbody>\n",
              "    <tr>\n",
              "      <th>0</th>\n",
              "      <td>সর্বোচ্চ সংখ্যা স্বাস্থ্য অধিদপ্তর মহাপরিচালক ...</td>\n",
              "      <td>6</td>\n",
              "    </tr>\n",
              "    <tr>\n",
              "      <th>1</th>\n",
              "      <td>টাঙ্গাইল চামচাম নির্মাতা প্রাদুর্ভাব লকডাউন বি...</td>\n",
              "      <td>3</td>\n",
              "    </tr>\n",
              "    <tr>\n",
              "      <th>2</th>\n",
              "      <td>শাটডাউন মোকাবেলা পরিবার উদ্যান সুবিধা মাসব্যাপ...</td>\n",
              "      <td>0</td>\n",
              "    </tr>\n",
              "    <tr>\n",
              "      <th>3</th>\n",
              "      <td>বগুড়া পরিবার পজিটিভ পরীক্ষা করেছেন কমপক্ষ বোগ...</td>\n",
              "      <td>7</td>\n",
              "    </tr>\n",
              "    <tr>\n",
              "      <th>4</th>\n",
              "      <td>করোনাভাইরাস স্বাস্থ্য মন্ত্রনালয় সরকারি কর্মক...</td>\n",
              "      <td>1</td>\n",
              "    </tr>\n",
              "    <tr>\n",
              "      <th>...</th>\n",
              "      <td>...</td>\n",
              "      <td>...</td>\n",
              "    </tr>\n",
              "    <tr>\n",
              "      <th>15560</th>\n",
              "      <td>আক্রান্ত সংখ্যা করোনাভাইরাসের সংক্রমণ নজিরবিহী...</td>\n",
              "      <td>5</td>\n",
              "    </tr>\n",
              "    <tr>\n",
              "      <th>15561</th>\n",
              "      <td>করোনাভাইরাস যাত্রী দিয়েছে করোনাভাইরাস বাংলাদেশ...</td>\n",
              "      <td>5</td>\n",
              "    </tr>\n",
              "    <tr>\n",
              "      <th>15562</th>\n",
              "      <td>বাংলাদেশিদের নির্দেশ প্রধানমন্ত্রী হাসিনা মারা...</td>\n",
              "      <td>8</td>\n",
              "    </tr>\n",
              "    <tr>\n",
              "      <th>15563</th>\n",
              "      <td>করোনাভাইরাস স্বাস্থ্য অধিদপ্তর কন্ট্রোল করোনাভ...</td>\n",
              "      <td>4</td>\n",
              "    </tr>\n",
              "    <tr>\n",
              "      <th>15564</th>\n",
              "      <td>করোনাভাইরাস কয়েকটি সীমান্ত সতর্কবস্থা করোনাভাই...</td>\n",
              "      <td>5</td>\n",
              "    </tr>\n",
              "  </tbody>\n",
              "</table>\n",
              "<p>15565 rows × 2 columns</p>\n",
              "</div>"
            ],
            "text/plain": [
              "                                                 article  label\n",
              "0      সর্বোচ্চ সংখ্যা স্বাস্থ্য অধিদপ্তর মহাপরিচালক ...      6\n",
              "1      টাঙ্গাইল চামচাম নির্মাতা প্রাদুর্ভাব লকডাউন বি...      3\n",
              "2      শাটডাউন মোকাবেলা পরিবার উদ্যান সুবিধা মাসব্যাপ...      0\n",
              "3      বগুড়া পরিবার পজিটিভ পরীক্ষা করেছেন কমপক্ষ বোগ...      7\n",
              "4      করোনাভাইরাস স্বাস্থ্য মন্ত্রনালয় সরকারি কর্মক...      1\n",
              "...                                                  ...    ...\n",
              "15560  আক্রান্ত সংখ্যা করোনাভাইরাসের সংক্রমণ নজিরবিহী...      5\n",
              "15561  করোনাভাইরাস যাত্রী দিয়েছে করোনাভাইরাস বাংলাদেশ...      5\n",
              "15562  বাংলাদেশিদের নির্দেশ প্রধানমন্ত্রী হাসিনা মারা...      8\n",
              "15563  করোনাভাইরাস স্বাস্থ্য অধিদপ্তর কন্ট্রোল করোনাভ...      4\n",
              "15564  করোনাভাইরাস কয়েকটি সীমান্ত সতর্কবস্থা করোনাভাই...      5\n",
              "\n",
              "[15565 rows x 2 columns]"
            ]
          },
          "metadata": {
            "tags": []
          },
          "execution_count": 37
        }
      ]
    },
    {
      "cell_type": "code",
      "metadata": {
        "id": "lSZAPaQpkU7_",
        "colab": {
          "base_uri": "https://localhost:8080/",
          "height": 176
        },
        "outputId": "95789987-434d-4bb4-e8f5-72c540ac68ae"
      },
      "source": [
        "df.info()"
      ],
      "execution_count": null,
      "outputs": [
        {
          "output_type": "stream",
          "text": [
            "<class 'pandas.core.frame.DataFrame'>\n",
            "RangeIndex: 15565 entries, 0 to 15564\n",
            "Data columns (total 2 columns):\n",
            " #   Column   Non-Null Count  Dtype \n",
            "---  ------   --------------  ----- \n",
            " 0   article  15565 non-null  object\n",
            " 1   label    15565 non-null  int64 \n",
            "dtypes: int64(1), object(1)\n",
            "memory usage: 243.3+ KB\n"
          ],
          "name": "stdout"
        }
      ]
    },
    {
      "cell_type": "code",
      "metadata": {
        "id": "CRGCn0Gekaa9"
      },
      "source": [
        "df.dropna(inplace = True)"
      ],
      "execution_count": null,
      "outputs": []
    },
    {
      "cell_type": "code",
      "metadata": {
        "id": "C01PK_a1ke7J",
        "colab": {
          "base_uri": "https://localhost:8080/",
          "height": 176
        },
        "outputId": "0729fd18-fb80-42da-ba81-ec63261b7ead"
      },
      "source": [
        "df.info()"
      ],
      "execution_count": null,
      "outputs": [
        {
          "output_type": "stream",
          "text": [
            "<class 'pandas.core.frame.DataFrame'>\n",
            "Int64Index: 15565 entries, 0 to 15564\n",
            "Data columns (total 2 columns):\n",
            " #   Column   Non-Null Count  Dtype \n",
            "---  ------   --------------  ----- \n",
            " 0   article  15565 non-null  object\n",
            " 1   label    15565 non-null  int64 \n",
            "dtypes: int64(1), object(1)\n",
            "memory usage: 364.8+ KB\n"
          ],
          "name": "stdout"
        }
      ]
    },
    {
      "cell_type": "code",
      "metadata": {
        "id": "p5F6Gy7DmokV"
      },
      "source": [
        "df = df.drop_duplicates()"
      ],
      "execution_count": null,
      "outputs": []
    },
    {
      "cell_type": "code",
      "metadata": {
        "id": "0vxtnpYrnOaY"
      },
      "source": [
        "df = df.reset_index()"
      ],
      "execution_count": null,
      "outputs": []
    },
    {
      "cell_type": "code",
      "metadata": {
        "id": "YYD0rZLKncK7"
      },
      "source": [
        "df = df.drop(columns=['index'])"
      ],
      "execution_count": null,
      "outputs": []
    },
    {
      "cell_type": "code",
      "metadata": {
        "id": "6bcu6nnFn7CH",
        "colab": {
          "base_uri": "https://localhost:8080/",
          "height": 1000
        },
        "outputId": "4ce2ee7a-4907-4b6c-abc7-5126803d37b0"
      },
      "source": [
        "df.head(50)"
      ],
      "execution_count": null,
      "outputs": [
        {
          "output_type": "execute_result",
          "data": {
            "text/html": [
              "<div>\n",
              "<style scoped>\n",
              "    .dataframe tbody tr th:only-of-type {\n",
              "        vertical-align: middle;\n",
              "    }\n",
              "\n",
              "    .dataframe tbody tr th {\n",
              "        vertical-align: top;\n",
              "    }\n",
              "\n",
              "    .dataframe thead th {\n",
              "        text-align: right;\n",
              "    }\n",
              "</style>\n",
              "<table border=\"1\" class=\"dataframe\">\n",
              "  <thead>\n",
              "    <tr style=\"text-align: right;\">\n",
              "      <th></th>\n",
              "      <th>article</th>\n",
              "      <th>label</th>\n",
              "    </tr>\n",
              "  </thead>\n",
              "  <tbody>\n",
              "    <tr>\n",
              "      <th>0</th>\n",
              "      <td>সর্বোচ্চ সংখ্যা স্বাস্থ্য অধিদপ্তর মহাপরিচালক ...</td>\n",
              "      <td>6</td>\n",
              "    </tr>\n",
              "    <tr>\n",
              "      <th>1</th>\n",
              "      <td>টাঙ্গাইল চামচাম নির্মাতা প্রাদুর্ভাব লকডাউন বি...</td>\n",
              "      <td>3</td>\n",
              "    </tr>\n",
              "    <tr>\n",
              "      <th>2</th>\n",
              "      <td>শাটডাউন মোকাবেলা পরিবার উদ্যান সুবিধা মাসব্যাপ...</td>\n",
              "      <td>0</td>\n",
              "    </tr>\n",
              "    <tr>\n",
              "      <th>3</th>\n",
              "      <td>বগুড়া পরিবার পজিটিভ পরীক্ষা করেছেন কমপক্ষ বোগ...</td>\n",
              "      <td>7</td>\n",
              "    </tr>\n",
              "    <tr>\n",
              "      <th>4</th>\n",
              "      <td>করোনাভাইরাস স্বাস্থ্য মন্ত্রনালয় সরকারি কর্মক...</td>\n",
              "      <td>1</td>\n",
              "    </tr>\n",
              "    <tr>\n",
              "      <th>5</th>\n",
              "      <td>হাসিনা মহিউদ্দিন ইতিবাচক পরীক্ষা করেছেন প্রয়া...</td>\n",
              "      <td>4</td>\n",
              "    </tr>\n",
              "    <tr>\n",
              "      <th>6</th>\n",
              "      <td>সুরক্ষা নির্দেশনা নিশ্চিত বঙ্গবাজার করোনাভাইরা...</td>\n",
              "      <td>1</td>\n",
              "    </tr>\n",
              "    <tr>\n",
              "      <th>7</th>\n",
              "      <td>করোনাভাইরাস প্রাদুর্ভাব বাংলাদেশকে সরবরাহ মহাম...</td>\n",
              "      <td>1</td>\n",
              "    </tr>\n",
              "    <tr>\n",
              "      <th>8</th>\n",
              "      <td>গাজীপুর এক্সিকিউটিভ ইঞ্জিনিয়ার অবস্থায় পাওয়...</td>\n",
              "      <td>3</td>\n",
              "    </tr>\n",
              "    <tr>\n",
              "      <th>9</th>\n",
              "      <td>চাটোগ্রাম পারিবারিক পরীক্ষা ইতিবাচক চট্টগ্রাম ...</td>\n",
              "      <td>7</td>\n",
              "    </tr>\n",
              "    <tr>\n",
              "      <th>10</th>\n",
              "      <td>বিচ্ছিন্নতায় ডিজিএইচএস মহাপরিচালক স্বাস্থ্যসে...</td>\n",
              "      <td>4</td>\n",
              "    </tr>\n",
              "    <tr>\n",
              "      <th>11</th>\n",
              "      <td>করোনাভাইরাস প্রাদুর্ভাব সুবিধাবঞ্চিত পরিবার সহ...</td>\n",
              "      <td>1</td>\n",
              "    </tr>\n",
              "    <tr>\n",
              "      <th>12</th>\n",
              "      <td>ইউএনডিপি সহায়তা অনলাইন মার্কেটপ্লেস আনন্ডোমেল...</td>\n",
              "      <td>0</td>\n",
              "    </tr>\n",
              "    <tr>\n",
              "      <th>13</th>\n",
              "      <td>হাসপাতাল বিচ্ছিন্নতা ওয়ার্ড রবিবার শামসুদ্দীন...</td>\n",
              "      <td>1</td>\n",
              "    </tr>\n",
              "    <tr>\n",
              "      <th>14</th>\n",
              "      <td>বাংলাদেশী ইন্দোনেশিয়া যুক্তরাজ্য ফিরেছেন ইন্দ...</td>\n",
              "      <td>5</td>\n",
              "    </tr>\n",
              "    <tr>\n",
              "      <th>15</th>\n",
              "      <td>শরীয়তপুর হাসপাতাল বিচ্ছিন্নতা ওয়ার্ড করোনাভা...</td>\n",
              "      <td>1</td>\n",
              "    </tr>\n",
              "    <tr>\n",
              "      <th>16</th>\n",
              "      <td>বিশ্ববিদ্যালয় অনলাইন বিশ্ববিদ্যালয় কর্তৃপক্ষ...</td>\n",
              "      <td>0</td>\n",
              "    </tr>\n",
              "    <tr>\n",
              "      <th>17</th>\n",
              "      <td>শিক্ষক বেসরকারি বিশ্ববিদ্যালয় পরিশোধ রিজার্ভ ...</td>\n",
              "      <td>1</td>\n",
              "    </tr>\n",
              "    <tr>\n",
              "      <th>18</th>\n",
              "      <td>ইতিবাচক পরীক্ষা বাহিনী সংখ্যা ঘণ্টায় সারাদেশ ...</td>\n",
              "      <td>1</td>\n",
              "    </tr>\n",
              "    <tr>\n",
              "      <th>19</th>\n",
              "      <td>কারাগার ইতিবাচক পরীক্ষা কর্মকর্তা জানিয়েছেন ক...</td>\n",
              "      <td>1</td>\n",
              "    </tr>\n",
              "    <tr>\n",
              "      <th>20</th>\n",
              "      <td>অবসরপ্রাপ্ত আন্তঃবাহিনী পাবলিক রিলেশন ডিরেক্ট ...</td>\n",
              "      <td>8</td>\n",
              "    </tr>\n",
              "    <tr>\n",
              "      <th>21</th>\n",
              "      <td>করোনাভাইরাস মোকাবেলা মার্কিন সার্ভিস সরবরাহ মা...</td>\n",
              "      <td>1</td>\n",
              "    </tr>\n",
              "    <tr>\n",
              "      <th>22</th>\n",
              "      <td>চাটোগ্রাম শ্রমিক মঞ্চস্থ বকেয়া চট্টগ্রাম কারখ...</td>\n",
              "      <td>3</td>\n",
              "    </tr>\n",
              "    <tr>\n",
              "      <th>23</th>\n",
              "      <td>বাংলাদেশী যুক্তরাজ্য ফিরেছেন বাংলাদেশের নাগরিক...</td>\n",
              "      <td>5</td>\n",
              "    </tr>\n",
              "    <tr>\n",
              "      <th>24</th>\n",
              "      <td>প্রাক্তন চাট্টোগ্রাম মহিউদ্দিন পজিটিভ পরীক্ষা ...</td>\n",
              "      <td>8</td>\n",
              "    </tr>\n",
              "    <tr>\n",
              "      <th>25</th>\n",
              "      <td>জীবিকা নির্বাহ সহায়তা শাটডাউন প্রধানমন্ত্রী প...</td>\n",
              "      <td>1</td>\n",
              "    </tr>\n",
              "    <tr>\n",
              "      <th>26</th>\n",
              "      <td>ঠাকুরগাঁ মঞ্চস্থ ঠাকুরওন লিমিটেড শ্রমিক কর্মচা...</td>\n",
              "      <td>3</td>\n",
              "    </tr>\n",
              "    <tr>\n",
              "      <th>27</th>\n",
              "      <td>উদ্ধার করেছেন পজিটিভ পরীক্ষা কমপক্ষ উদ্ধার পেয...</td>\n",
              "      <td>1</td>\n",
              "    </tr>\n",
              "    <tr>\n",
              "      <th>28</th>\n",
              "      <td>ফ্যামিলি হাসপাতাল চিকিত্সা স্বাস্থ্যমন্ত্রী ফ্...</td>\n",
              "      <td>4</td>\n",
              "    </tr>\n",
              "    <tr>\n",
              "      <th>29</th>\n",
              "      <td>বাংলাদেশী নাগরিক কোরিয়া ফ্লাইট মহামারী ফ্লাইট...</td>\n",
              "      <td>5</td>\n",
              "    </tr>\n",
              "    <tr>\n",
              "      <th>30</th>\n",
              "      <td>ফ্লাইট যুক্তরাজ্য নাগরিক আগামীকাল প্রত্যাবর্তন...</td>\n",
              "      <td>5</td>\n",
              "    </tr>\n",
              "    <tr>\n",
              "      <th>31</th>\n",
              "      <td>ভাইরাসে আক্রান্ত বাংলাদেশিরা বসবাসকারী বাংলাদে...</td>\n",
              "      <td>1</td>\n",
              "    </tr>\n",
              "    <tr>\n",
              "      <th>32</th>\n",
              "      <td>করোনাভাইরাস জায়গায় পরিকল্পনা বাংলাদেশে করোনা...</td>\n",
              "      <td>1</td>\n",
              "    </tr>\n",
              "    <tr>\n",
              "      <th>33</th>\n",
              "      <td>শনিবার কুয়েতগামী বাংলাদেশী স্বাস্থ্য ছাড়পত্র...</td>\n",
              "      <td>4</td>\n",
              "    </tr>\n",
              "    <tr>\n",
              "      <th>34</th>\n",
              "      <td>মৃত্যু হাসপাতাল ভাঙচুর বুধবার পটুয়াখালী বেসরক...</td>\n",
              "      <td>3</td>\n",
              "    </tr>\n",
              "    <tr>\n",
              "      <th>35</th>\n",
              "      <td>করোনাভাইরাস উদযাপন প্রভাব পররাষ্ট্রমন্ত্রী পরর...</td>\n",
              "      <td>1</td>\n",
              "    </tr>\n",
              "    <tr>\n",
              "      <th>36</th>\n",
              "      <td>ভাইরাস মোকাবিলায় বাংলাদেশ প্রধানমন্ত্রী প্রধা...</td>\n",
              "      <td>1</td>\n",
              "    </tr>\n",
              "    <tr>\n",
              "      <th>37</th>\n",
              "      <td>করোনাভাইরাস আক্রান্ত বাংলাদেশি আইইডিসিআর কর্না...</td>\n",
              "      <td>1</td>\n",
              "    </tr>\n",
              "    <tr>\n",
              "      <th>38</th>\n",
              "      <td>পরিচালনা স্বাস্থ্য মন্ত্রক নির্দেশনা বাংলাদেশে...</td>\n",
              "      <td>1</td>\n",
              "    </tr>\n",
              "    <tr>\n",
              "      <th>39</th>\n",
              "      <td>বাংলাদেশ অন্যান্য ভ্রমণকারী প্রবেশ স্থগিত বিশ্...</td>\n",
              "      <td>1</td>\n",
              "    </tr>\n",
              "    <tr>\n",
              "      <th>40</th>\n",
              "      <td>করোনাভাইরাস পড়েনি আইইডিসিআর করোনাভাইরাস যায়ন...</td>\n",
              "      <td>1</td>\n",
              "    </tr>\n",
              "    <tr>\n",
              "      <th>41</th>\n",
              "      <td>আইইডিসিআর হটলাইন রবিবার বাংলাদেশে সত্যতা নিশ্চ...</td>\n",
              "      <td>4</td>\n",
              "    </tr>\n",
              "    <tr>\n",
              "      <th>42</th>\n",
              "      <td>ব্রিটিশ বাংলাদেশী যুক্তরাজ্য করোনাভাইরাস বাংলা...</td>\n",
              "      <td>1</td>\n",
              "    </tr>\n",
              "    <tr>\n",
              "      <th>43</th>\n",
              "      <td>করোনাভাইরাস বাংলালিংক আইইডিসিআর হটলাইন টোলমুক্...</td>\n",
              "      <td>1</td>\n",
              "    </tr>\n",
              "    <tr>\n",
              "      <th>44</th>\n",
              "      <td>কর্নাভাইরাস মাধ্যমিক উচ্চশিক্ষা অধিদপ্তর নির্দ...</td>\n",
              "      <td>8</td>\n",
              "    </tr>\n",
              "    <tr>\n",
              "      <th>45</th>\n",
              "      <td>বিমানবন্দর স্বাস্থ্য সংখ্যা বাড়ানো নির্দেশনা ...</td>\n",
              "      <td>1</td>\n",
              "    </tr>\n",
              "    <tr>\n",
              "      <th>46</th>\n",
              "      <td>ফিলিপিনো মঙ্গলা নেতিবাচক পরীক্ষা বিদেশী ফিলিপি...</td>\n",
              "      <td>1</td>\n",
              "    </tr>\n",
              "    <tr>\n",
              "      <th>47</th>\n",
              "      <td>বাংলাদেশে স্বাস্থ্যমন্ত্রী প্রবাসী আহ্বান জানি...</td>\n",
              "      <td>1</td>\n",
              "    </tr>\n",
              "    <tr>\n",
              "      <th>48</th>\n",
              "      <td>করোনাভাইরাস মার্কিন যুক্তরাষ্ট্র বাংলাদেশকে সহ...</td>\n",
              "      <td>1</td>\n",
              "    </tr>\n",
              "    <tr>\n",
              "      <th>49</th>\n",
              "      <td>করোনাভাইরাস বোর্শো প্রোগ্রাম দিয়েছে বাংলাদেশে...</td>\n",
              "      <td>8</td>\n",
              "    </tr>\n",
              "  </tbody>\n",
              "</table>\n",
              "</div>"
            ],
            "text/plain": [
              "                                              article  label\n",
              "0   সর্বোচ্চ সংখ্যা স্বাস্থ্য অধিদপ্তর মহাপরিচালক ...      6\n",
              "1   টাঙ্গাইল চামচাম নির্মাতা প্রাদুর্ভাব লকডাউন বি...      3\n",
              "2   শাটডাউন মোকাবেলা পরিবার উদ্যান সুবিধা মাসব্যাপ...      0\n",
              "3   বগুড়া পরিবার পজিটিভ পরীক্ষা করেছেন কমপক্ষ বোগ...      7\n",
              "4   করোনাভাইরাস স্বাস্থ্য মন্ত্রনালয় সরকারি কর্মক...      1\n",
              "5   হাসিনা মহিউদ্দিন ইতিবাচক পরীক্ষা করেছেন প্রয়া...      4\n",
              "6   সুরক্ষা নির্দেশনা নিশ্চিত বঙ্গবাজার করোনাভাইরা...      1\n",
              "7   করোনাভাইরাস প্রাদুর্ভাব বাংলাদেশকে সরবরাহ মহাম...      1\n",
              "8   গাজীপুর এক্সিকিউটিভ ইঞ্জিনিয়ার অবস্থায় পাওয়...      3\n",
              "9   চাটোগ্রাম পারিবারিক পরীক্ষা ইতিবাচক চট্টগ্রাম ...      7\n",
              "10  বিচ্ছিন্নতায় ডিজিএইচএস মহাপরিচালক স্বাস্থ্যসে...      4\n",
              "11  করোনাভাইরাস প্রাদুর্ভাব সুবিধাবঞ্চিত পরিবার সহ...      1\n",
              "12  ইউএনডিপি সহায়তা অনলাইন মার্কেটপ্লেস আনন্ডোমেল...      0\n",
              "13  হাসপাতাল বিচ্ছিন্নতা ওয়ার্ড রবিবার শামসুদ্দীন...      1\n",
              "14  বাংলাদেশী ইন্দোনেশিয়া যুক্তরাজ্য ফিরেছেন ইন্দ...      5\n",
              "15  শরীয়তপুর হাসপাতাল বিচ্ছিন্নতা ওয়ার্ড করোনাভা...      1\n",
              "16  বিশ্ববিদ্যালয় অনলাইন বিশ্ববিদ্যালয় কর্তৃপক্ষ...      0\n",
              "17  শিক্ষক বেসরকারি বিশ্ববিদ্যালয় পরিশোধ রিজার্ভ ...      1\n",
              "18  ইতিবাচক পরীক্ষা বাহিনী সংখ্যা ঘণ্টায় সারাদেশ ...      1\n",
              "19  কারাগার ইতিবাচক পরীক্ষা কর্মকর্তা জানিয়েছেন ক...      1\n",
              "20  অবসরপ্রাপ্ত আন্তঃবাহিনী পাবলিক রিলেশন ডিরেক্ট ...      8\n",
              "21  করোনাভাইরাস মোকাবেলা মার্কিন সার্ভিস সরবরাহ মা...      1\n",
              "22  চাটোগ্রাম শ্রমিক মঞ্চস্থ বকেয়া চট্টগ্রাম কারখ...      3\n",
              "23  বাংলাদেশী যুক্তরাজ্য ফিরেছেন বাংলাদেশের নাগরিক...      5\n",
              "24  প্রাক্তন চাট্টোগ্রাম মহিউদ্দিন পজিটিভ পরীক্ষা ...      8\n",
              "25  জীবিকা নির্বাহ সহায়তা শাটডাউন প্রধানমন্ত্রী প...      1\n",
              "26  ঠাকুরগাঁ মঞ্চস্থ ঠাকুরওন লিমিটেড শ্রমিক কর্মচা...      3\n",
              "27  উদ্ধার করেছেন পজিটিভ পরীক্ষা কমপক্ষ উদ্ধার পেয...      1\n",
              "28  ফ্যামিলি হাসপাতাল চিকিত্সা স্বাস্থ্যমন্ত্রী ফ্...      4\n",
              "29  বাংলাদেশী নাগরিক কোরিয়া ফ্লাইট মহামারী ফ্লাইট...      5\n",
              "30  ফ্লাইট যুক্তরাজ্য নাগরিক আগামীকাল প্রত্যাবর্তন...      5\n",
              "31  ভাইরাসে আক্রান্ত বাংলাদেশিরা বসবাসকারী বাংলাদে...      1\n",
              "32  করোনাভাইরাস জায়গায় পরিকল্পনা বাংলাদেশে করোনা...      1\n",
              "33  শনিবার কুয়েতগামী বাংলাদেশী স্বাস্থ্য ছাড়পত্র...      4\n",
              "34  মৃত্যু হাসপাতাল ভাঙচুর বুধবার পটুয়াখালী বেসরক...      3\n",
              "35  করোনাভাইরাস উদযাপন প্রভাব পররাষ্ট্রমন্ত্রী পরর...      1\n",
              "36  ভাইরাস মোকাবিলায় বাংলাদেশ প্রধানমন্ত্রী প্রধা...      1\n",
              "37  করোনাভাইরাস আক্রান্ত বাংলাদেশি আইইডিসিআর কর্না...      1\n",
              "38  পরিচালনা স্বাস্থ্য মন্ত্রক নির্দেশনা বাংলাদেশে...      1\n",
              "39  বাংলাদেশ অন্যান্য ভ্রমণকারী প্রবেশ স্থগিত বিশ্...      1\n",
              "40  করোনাভাইরাস পড়েনি আইইডিসিআর করোনাভাইরাস যায়ন...      1\n",
              "41  আইইডিসিআর হটলাইন রবিবার বাংলাদেশে সত্যতা নিশ্চ...      4\n",
              "42  ব্রিটিশ বাংলাদেশী যুক্তরাজ্য করোনাভাইরাস বাংলা...      1\n",
              "43  করোনাভাইরাস বাংলালিংক আইইডিসিআর হটলাইন টোলমুক্...      1\n",
              "44  কর্নাভাইরাস মাধ্যমিক উচ্চশিক্ষা অধিদপ্তর নির্দ...      8\n",
              "45  বিমানবন্দর স্বাস্থ্য সংখ্যা বাড়ানো নির্দেশনা ...      1\n",
              "46  ফিলিপিনো মঙ্গলা নেতিবাচক পরীক্ষা বিদেশী ফিলিপি...      1\n",
              "47  বাংলাদেশে স্বাস্থ্যমন্ত্রী প্রবাসী আহ্বান জানি...      1\n",
              "48  করোনাভাইরাস মার্কিন যুক্তরাষ্ট্র বাংলাদেশকে সহ...      1\n",
              "49  করোনাভাইরাস বোর্শো প্রোগ্রাম দিয়েছে বাংলাদেশে...      8"
            ]
          },
          "metadata": {
            "tags": []
          },
          "execution_count": 44
        }
      ]
    },
    {
      "cell_type": "code",
      "metadata": {
        "id": "QoSMzum9b-Ez"
      },
      "source": [
        "from sklearn.model_selection import train_test_split\n",
        "from sklearn.preprocessing import LabelBinarizer\n",
        "from keras.preprocessing.text import Tokenizer\n",
        "from keras.preprocessing.sequence import pad_sequences\n",
        "from sklearn.feature_extraction.text import TfidfVectorizer\n",
        "from keras.layers import SpatialDropout1D\n",
        "from keras.utils import to_categorical\n",
        "from sklearn.metrics import classification_report\n",
        "from sklearn.metrics import roc_auc_score\n",
        "from sklearn.metrics import roc_curve\n",
        "from sklearn.metrics import precision_recall_curve\n",
        "from sklearn.model_selection import GridSearchCV\n",
        "from keras.models import Sequential\n",
        "from keras.layers import Dense\n",
        "from keras.layers import LSTM\n",
        "from keras.layers.embeddings import Embedding\n",
        "from keras.preprocessing import sequence\n",
        "from keras.callbacks import EarlyStopping\n",
        "from sklearn.feature_selection import RFE\n",
        "import re"
      ],
      "execution_count": null,
      "outputs": []
    },
    {
      "cell_type": "code",
      "metadata": {
        "id": "H1_WCjFTb_-8"
      },
      "source": [
        "# The maximum number of words to be used. (most frequent)\n",
        "MAX_NB_WORDS = 50000\n",
        "# Max number of words in each complaint.\n",
        "MAX_SEQUENCE_LENGTH = 1000\n",
        "# This is fixed.\n",
        "EMBEDDING_DIM = 200\n",
        "tokenizer = Tokenizer(num_words=MAX_NB_WORDS, filters='!\"#$%&()*+,-./:;<=>?@[\\]^_`{|}~।', lower=False)\n",
        "tokenizer.fit_on_texts(df.article.values)\n",
        "word_index = tokenizer.word_index\n",
        "print('Found %s unique tokens.' % len(word_index))"
      ],
      "execution_count": null,
      "outputs": []
    },
    {
      "cell_type": "code",
      "metadata": {
        "id": "DiyYw-KqcUYU",
        "colab": {
          "base_uri": "https://localhost:8080/",
          "height": 34
        },
        "outputId": "6d455a4c-3e1d-4971-c9eb-0cd74f9036c3"
      },
      "source": [
        "X = tokenizer.texts_to_sequences((df.article.values))\n",
        "X = pad_sequences(X, maxlen=MAX_SEQUENCE_LENGTH)\n",
        "print('Shape of data tensor:', X.shape)"
      ],
      "execution_count": null,
      "outputs": [
        {
          "output_type": "stream",
          "text": [
            "Shape of data tensor: (14322, 1000)\n"
          ],
          "name": "stdout"
        }
      ]
    },
    {
      "cell_type": "code",
      "metadata": {
        "id": "dv2Q_09QcgUg",
        "colab": {
          "base_uri": "https://localhost:8080/",
          "height": 34
        },
        "outputId": "b117d226-26f5-41f4-dca6-6c24903f95fb"
      },
      "source": [
        "Y = pd.get_dummies(df.label).values\n",
        "print('Shape of label tensor:', Y.shape)"
      ],
      "execution_count": null,
      "outputs": [
        {
          "output_type": "stream",
          "text": [
            "Shape of label tensor: (14322, 9)\n"
          ],
          "name": "stdout"
        }
      ]
    },
    {
      "cell_type": "code",
      "metadata": {
        "id": "aDHlX6T-clCC"
      },
      "source": [
        "train_features, test_features, train_labels, test_labels = train_test_split(X, Y, test_size=.10)"
      ],
      "execution_count": null,
      "outputs": []
    },
    {
      "cell_type": "code",
      "metadata": {
        "id": "Fa2diHdaG1k7"
      },
      "source": [
        "from keras import backend as K\n",
        "\n",
        "def recall_m(y_true, y_pred):\n",
        "    true_positives = K.sum(K.round(K.clip(y_true * y_pred, 0, 1)))\n",
        "    possible_positives = K.sum(K.round(K.clip(y_true, 0, 1)))\n",
        "    recall = true_positives / (possible_positives + K.epsilon())\n",
        "\n",
        "    return recall\n",
        "\n",
        "def precision_m(y_true, y_pred):\n",
        "    true_positives = K.sum(K.round(K.clip(y_true * y_pred, 0, 1)))\n",
        "    predicted_positives = K.sum(K.round(K.clip(y_pred, 0, 1)))\n",
        "    precision = true_positives / (predicted_positives + K.epsilon())\n",
        "    return precision\n",
        "\n",
        "def f1_m(y_true, y_pred):\n",
        "    precision = precision_m(y_true, y_pred)\n",
        "    recall = recall_m(y_true, y_pred)\n",
        "    return 2*((precision*recall)/(precision+recall+K.epsilon()))"
      ],
      "execution_count": null,
      "outputs": []
    },
    {
      "cell_type": "code",
      "metadata": {
        "id": "QtQzS4g8oUtE",
        "colab": {
          "base_uri": "https://localhost:8080/",
          "height": 336
        },
        "outputId": "b8c5bab0-a608-4051-f77d-923901df714d"
      },
      "source": [
        "model = Sequential()\n",
        "model.add(Embedding(MAX_NB_WORDS, EMBEDDING_DIM, input_length=X.shape[1]))\n",
        "model.add(SpatialDropout1D(0.2))\n",
        "model.add(LSTM(100, dropout=0.2, recurrent_dropout=0.2))\n",
        "model.add(Dense(9, activation='softmax'))\n",
        "model.compile(loss='categorical_crossentropy', optimizer='adam', metrics=['accuracy',f1_m,precision_m, recall_m])\n",
        "print(model.summary())"
      ],
      "execution_count": null,
      "outputs": [
        {
          "output_type": "stream",
          "text": [
            "WARNING:tensorflow:Layer lstm_1 will not use cuDNN kernel since it doesn't meet the cuDNN kernel criteria. It will use generic GPU kernel as fallback when running on GPU\n",
            "Model: \"sequential_1\"\n",
            "_________________________________________________________________\n",
            "Layer (type)                 Output Shape              Param #   \n",
            "=================================================================\n",
            "embedding_1 (Embedding)      (None, 1000, 200)         10000000  \n",
            "_________________________________________________________________\n",
            "spatial_dropout1d_1 (Spatial (None, 1000, 200)         0         \n",
            "_________________________________________________________________\n",
            "lstm_1 (LSTM)                (None, 100)               120400    \n",
            "_________________________________________________________________\n",
            "dense_1 (Dense)              (None, 9)                 909       \n",
            "=================================================================\n",
            "Total params: 10,121,309\n",
            "Trainable params: 10,121,309\n",
            "Non-trainable params: 0\n",
            "_________________________________________________________________\n",
            "None\n"
          ],
          "name": "stdout"
        }
      ]
    },
    {
      "cell_type": "code",
      "metadata": {
        "id": "jxYGabl6rh4o",
        "colab": {
          "base_uri": "https://localhost:8080/",
          "height": 34
        },
        "outputId": "38f1578f-d295-408a-d600-597386d08b52"
      },
      "source": [
        "X.shape"
      ],
      "execution_count": null,
      "outputs": [
        {
          "output_type": "execute_result",
          "data": {
            "text/plain": [
              "(14322, 1000)"
            ]
          },
          "metadata": {
            "tags": []
          },
          "execution_count": 52
        }
      ]
    },
    {
      "cell_type": "code",
      "metadata": {
        "id": "w3BqDZzcrkYg",
        "colab": {
          "base_uri": "https://localhost:8080/",
          "height": 34
        },
        "outputId": "046dbc26-20cb-4cd3-a921-0209249b4a72"
      },
      "source": [
        "Y.shape"
      ],
      "execution_count": null,
      "outputs": [
        {
          "output_type": "execute_result",
          "data": {
            "text/plain": [
              "(14322, 9)"
            ]
          },
          "metadata": {
            "tags": []
          },
          "execution_count": 53
        }
      ]
    },
    {
      "cell_type": "code",
      "metadata": {
        "id": "OGzyDZ8aokhy",
        "colab": {
          "base_uri": "https://localhost:8080/",
          "height": 214
        },
        "outputId": "3f524490-0456-41b9-f682-6875173827fe"
      },
      "source": [
        "epochs = 5\n",
        "batch_size = 32\n",
        "\n",
        "history = model.fit(\n",
        "    train_features, \n",
        "    train_labels, \n",
        "    epochs=epochs, \n",
        "    batch_size=batch_size,\n",
        "    validation_split=0.1,\n",
        "    callbacks=[EarlyStopping(monitor='val_loss', \n",
        "                             patience=3, \n",
        "                             min_delta=0.0001)]\n",
        "                    ) \n",
        "\n"
      ],
      "execution_count": null,
      "outputs": [
        {
          "output_type": "stream",
          "text": [
            "Epoch 1/5\n",
            "363/363 [==============================] - 1825s 5s/step - loss: 1.2646 - accuracy: 0.5852 - f1_m: 0.5169 - precision_m: 0.6868 - recall_m: 0.4255 - val_loss: 0.9516 - val_accuracy: 0.6695 - val_f1_m: 0.6444 - val_precision_m: 0.7951 - val_recall_m: 0.5476\n",
            "Epoch 2/5\n",
            "363/363 [==============================] - 1784s 5s/step - loss: 0.6552 - accuracy: 0.7966 - f1_m: 0.7809 - precision_m: 0.8595 - recall_m: 0.7188 - val_loss: 0.7127 - val_accuracy: 0.7673 - val_f1_m: 0.7662 - val_precision_m: 0.8199 - val_recall_m: 0.7210\n",
            "Epoch 3/5\n",
            "363/363 [==============================] - 1745s 5s/step - loss: 0.3709 - accuracy: 0.8896 - f1_m: 0.8868 - precision_m: 0.9165 - recall_m: 0.8598 - val_loss: 0.7223 - val_accuracy: 0.7766 - val_f1_m: 0.7777 - val_precision_m: 0.8213 - val_recall_m: 0.7397\n",
            "Epoch 4/5\n",
            "363/363 [==============================] - 1734s 5s/step - loss: 0.1830 - accuracy: 0.9475 - f1_m: 0.9464 - precision_m: 0.9577 - recall_m: 0.9358 - val_loss: 0.7229 - val_accuracy: 0.8099 - val_f1_m: 0.8128 - val_precision_m: 0.8346 - val_recall_m: 0.7926\n",
            "Epoch 5/5\n",
            "363/363 [==============================] - 1747s 5s/step - loss: 0.1101 - accuracy: 0.9685 - f1_m: 0.9680 - precision_m: 0.9740 - recall_m: 0.9622 - val_loss: 0.7817 - val_accuracy: 0.8029 - val_f1_m: 0.8046 - val_precision_m: 0.8245 - val_recall_m: 0.7862\n"
          ],
          "name": "stdout"
        }
      ]
    },
    {
      "cell_type": "code",
      "metadata": {
        "id": "5u6GVYOB8qKL",
        "colab": {
          "base_uri": "https://localhost:8080/",
          "height": 87
        },
        "outputId": "b26fcd85-2ee0-4573-c2b7-69c538698b4b"
      },
      "source": [
        "accr = model.evaluate(test_features,test_labels)\n",
        "print('Test set\\n  Loss: {:0.2f}\\n  Accuracy: {:0.2f}'.format(accr[0],accr[1]))"
      ],
      "execution_count": null,
      "outputs": [
        {
          "output_type": "stream",
          "text": [
            "45/45 [==============================] - 17s 376ms/step - loss: 0.8421 - accuracy: 0.7955 - f1_m: 0.7967 - precision_m: 0.8137 - recall_m: 0.7810\n",
            "Test set\n",
            "  Loss: 0.84\n",
            "  Accuracy: 0.80\n"
          ],
          "name": "stdout"
        }
      ]
    },
    {
      "cell_type": "code",
      "metadata": {
        "id": "qz2xWrXm83o-",
        "colab": {
          "base_uri": "https://localhost:8080/",
          "height": 544
        },
        "outputId": "4efdbbd9-ad83-4420-ac73-0f56800f09bf"
      },
      "source": [
        "from matplotlib import pyplot as plt\n",
        "plt.title('Loss')\n",
        "plt.plot(history.history['loss'], label='train')\n",
        "plt.plot(history.history['val_loss'], label='test')\n",
        "plt.legend()\n",
        "plt.show()\n",
        "plt.title('Accuracy')\n",
        "plt.plot(history.history['accuracy'], label='train')\n",
        "plt.plot(history.history['val_accuracy'], label='test')\n",
        "plt.legend()\n",
        "plt.show()"
      ],
      "execution_count": null,
      "outputs": [
        {
          "output_type": "display_data",
          "data": {
            "image/png": "[encoded data removed]",
            "text/plain": [
              "<Figure size 432x288 with 1 Axes>"
            ]
          },
          "metadata": {
            "tags": [],
            "needs_background": "light"
          }
        },
        {
          "output_type": "display_data",
          "data": {
            "image/png": "[encoded data removed]",
            "text/plain": [
              "<Figure size 432x288 with 1 Axes>"
            ]
          },
          "metadata": {
            "tags": [],
            "needs_background": "light"
          }
        }
      ]
    },
    {
      "cell_type": "code",
      "metadata": {
        "id": "5F9BbePRHFaZ",
        "colab": {
          "base_uri": "https://localhost:8080/",
          "height": 132
        },
        "outputId": "b6284787-42ec-4ff7-f6c7-cc2b81af6fa9"
      },
      "source": [
        "loss, accuracy, f1_score, precision, recall = model.evaluate(test_features,test_labels)\n",
        "#print('Test set\\n  Loss: {:0.3f}\\n  Accuracy: {:0.3f}'.format(accr[0],accr[1]))\n",
        "print('Loss : ')\n",
        "print(loss)\n",
        "print('Accuracy : ')\n",
        "print(accuracy)\n",
        "print('F1 score : ')\n",
        "print(f1_score)\n",
        "print('Precision : ')\n",
        "print(precision)\n",
        "print('Recall : ')\n",
        "print(recall)"
      ],
      "execution_count": null,
      "outputs": [
        {
          "output_type": "error",
          "ename": "SyntaxError",
          "evalue": "ignored",
          "traceback": [
            "\u001b[0;36m  File \u001b[0;32m\"<ipython-input-57-afc3cd815df2>\"\u001b[0;36m, line \u001b[0;32m1\u001b[0m\n\u001b[0;31m    loss, accuracy, f1_score, precision, recall = model.evaluate(test_features,test_labels))\u001b[0m\n\u001b[0m                                                                                           ^\u001b[0m\n\u001b[0;31mSyntaxError\u001b[0m\u001b[0;31m:\u001b[0m invalid syntax\n"
          ]
        }
      ]
    },
    {
      "cell_type": "code",
      "metadata": {
        "id": "FIhBTz0R7u0X"
      },
      "source": [
        "model.save_weights('bengali_news_model.h5')"
      ],
      "execution_count": null,
      "outputs": []
    },
    {
      "cell_type": "code",
      "metadata": {
        "id": "cTV_D5YdApOG"
      },
      "source": [
        "# news = [\"\"\"‘বন্ধুত্ব’ করিয়ে দেওয়ার টোপ দিয়ে টাকা হাতানোর অভিযোগে ১৬ জনকে গ্রেফতার করল কলকাতা পুলিশের সাইবার ক্রাইম থানা। ধৃতদের মধ্যে ন’জন পুরুষ এবং সাতজন মহিলা। তাদের মঙ্গলবার ব্যাঙ্কশাল আদালতে তোলা হলে বিচারক ১৫ মে পর্যন্ত পুলিশি হেফাজতের নির্দেশ দিয়েছেন।\\\n",
        "#     পুলিশ জানিয়েছে, অভিযুক্তেরা বিভিন্ন সংবাদপত্রে ‘এসকর্ট সার্ভিসে’র বিজ্ঞাপন দিত। মহিলাদের সঙ্গে ‘বন্ধুত্ব’ করে লোভনীয় উপার্জনের হাতছানি থাকত সেইসব বিজ্ঞাপনে। এই কাজের জন্য গাড়ি করে নিয়ে যাওয়া এবং বাড়িতে পৌঁছে দেওয়ার ব্যবস্থাও আছে বলে লেখা থাকত সেখানে। যোগাযোগের জন্য দু’টি মোবাইল নম্বরও দেওয়া থাকত। ওই নম্বরে যোগাযোগ করলে ব্যাঙ্ক অ্যাকাউন্টে একাধিকবার বিভিন্ন খাতে টাকা জমা দিতে বলা হতো।\n",
        "#     অ্যাকাউন্টে টাকা পৌঁছে গেলেই সাইবার ক্রাইম থানার পুলিশ আধিকারিক পরিচয় দিয়ে প্রতারণাচক্রের এক ব্যক্তি ফোন করত সংশ্লিষ্ট আবেদনকারীকে। ফোনে গ্রেফতারির হুমকির পাশাপাশি, ২০ হাজার টাকা দাবি করা হতো বলে অভিযোগ। \\\n",
        "#     এই প্রতারণাচক্রের খপ্পরে পড়া মুচিপাড়া এলাকার এক বাসিন্দা এপ্রিল মাসে পুলিশের কাছে অভিযোগ দায়ের করেছিলেন। অভিযোগের ভিত্তিতে তদন্ত করতে গিয়ে কসবার রাজডাঙায় একটি ফ্ল্যাটের সন্ধান মেলে। সোমবার রাতে সেখানে হানা দিয়ে অভিযুক্তদের গ্রেফতার করা হয়। ধৃতদের কাছ থেকে ৫৩টি মোবাইল ফোন, ৭৫টি সিম কার্ড, দু’টি কর্ডলেস ফোন, একাধিক রাবার স্ট্যাম্প এবং একটি গাড়ি বাজেয়াপ্ত করেছে পুলিশ।  \n",
        "#        \"\"\"]\n",
        "# seq = tokenizer.texts_to_sequences(news)\n",
        "# padded = pad_sequences(seq, maxlen=MAX_SEQUENCE_LENGTH)\n",
        "# pred = model.predict(padded)\n",
        "# labels = ['entertainment', 'national', 'sports', 'kolkata', 'state','international', 'sport', 'nation', 'world', 'travel']\n",
        "# label = pred, labels[np.argmax(pred)]\n",
        "# print(\"News Label Is: \")\n",
        "# print(label[1])"
      ],
      "execution_count": null,
      "outputs": []
    }
  ]
}