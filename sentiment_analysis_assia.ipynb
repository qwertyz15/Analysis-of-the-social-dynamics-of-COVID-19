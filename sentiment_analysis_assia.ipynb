{
  "nbformat": 4,
  "nbformat_minor": 0,
  "metadata": {
    "colab": {
      "name": "sentiment_analysis_assia.ipynb",
      "provenance": [],
      "include_colab_link": true
    },
    "kernelspec": {
      "name": "python3",
      "display_name": "Python 3"
    },
    "accelerator": "GPU"
  },
  "cells": [
    {
      "cell_type": "markdown",
      "metadata": {
        "id": "view-in-github",
        "colab_type": "text"
      },
      "source": [
        "<a href=\"https://colab.research.google.com/github/qwertyz15/Analysis-of-the-social-dynamics-of-COVID-19/blob/main/sentiment_analysis_assia.ipynb\" target=\"_parent\"><img src=\"https://colab.research.google.com/assets/colab-badge.svg\" alt=\"Open In Colab\"/></a>"
      ]
    },
    {
      "cell_type": "code",
      "metadata": {
        "id": "F1Q5ALKSiL9W",
        "colab": {
          "base_uri": "https://localhost:8080/",
          "height": 34
        },
        "outputId": "7799d7db-6e9a-472c-b82c-267c5e062fed"
      },
      "source": [
        "#Mount the google drive\n",
        "from google.colab import drive\n",
        "drive.mount('/content/drive')"
      ],
      "execution_count": null,
      "outputs": [
        {
          "output_type": "stream",
          "text": [
            "Mounted at /content/drive\n"
          ],
          "name": "stdout"
        }
      ]
    },
    {
      "cell_type": "code",
      "metadata": {
        "id": "jEav9E8kixzs"
      },
      "source": [
        "# Import Necessary libraries\n",
        "import os \n",
        "# Set Directory path for Dataset for Assia\n",
        "os.chdir(\"/content/drive/My Drive/Covid19-Newspaper-Topic-Modeling\")"
      ],
      "execution_count": null,
      "outputs": []
    },
    {
      "cell_type": "code",
      "metadata": {
        "id": "Iel8M57LjEXD"
      },
      "source": [
        "# Import libraries\n",
        "import numpy as np\n",
        "import pandas as pd\n",
        "from textblob import TextBlob\n",
        "from wordcloud import WordCloud\n",
        "import matplotlib.pyplot as plt\n",
        "plt.style.use('fivethirtyeight')"
      ],
      "execution_count": null,
      "outputs": []
    },
    {
      "cell_type": "code",
      "metadata": {
        "id": "qoy65F_7i1dd"
      },
      "source": [
        "# Loading data\n",
        "df = pd.read_csv('data_clean_en.csv')"
      ],
      "execution_count": null,
      "outputs": []
    },
    {
      "cell_type": "code",
      "metadata": {
        "id": "4enB-7r7javE",
        "colab": {
          "base_uri": "https://localhost:8080/",
          "height": 410
        },
        "outputId": "c0b73b01-cba0-49a9-df67-69975bcaa5b3"
      },
      "source": [
        "df.head(10)"
      ],
      "execution_count": null,
      "outputs": [
        {
          "output_type": "execute_result",
          "data": {
            "text/html": [
              "<div>\n",
              "<style scoped>\n",
              "    .dataframe tbody tr th:only-of-type {\n",
              "        vertical-align: middle;\n",
              "    }\n",
              "\n",
              "    .dataframe tbody tr th {\n",
              "        vertical-align: top;\n",
              "    }\n",
              "\n",
              "    .dataframe thead th {\n",
              "        text-align: right;\n",
              "    }\n",
              "</style>\n",
              "<table border=\"1\" class=\"dataframe\">\n",
              "  <thead>\n",
              "    <tr style=\"text-align: right;\">\n",
              "      <th></th>\n",
              "      <th>Text_en</th>\n",
              "      <th>Text_en_clean</th>\n",
              "      <th>data_words</th>\n",
              "      <th>data_ready</th>\n",
              "    </tr>\n",
              "  </thead>\n",
              "  <tbody>\n",
              "    <tr>\n",
              "      <th>0</th>\n",
              "      <td>Highest number of Covid-19 deaths in a day. Ni...</td>\n",
              "      <td>highest number of covid deaths in a day ninete...</td>\n",
              "      <td>['highest', 'number', 'covid', 'death', 'day',...</td>\n",
              "      <td>['high', 'number', 'death', 'day', 'people', '...</td>\n",
              "    </tr>\n",
              "    <tr>\n",
              "      <th>1</th>\n",
              "      <td>Thrown out of job, Tangail’s chamcham makers p...</td>\n",
              "      <td>thrown out of job tangails chamcham makers pas...</td>\n",
              "      <td>['thrown', 'job', 'tangails', 'chamcham', 'mak...</td>\n",
              "      <td>['throw', 'job', 'tangail', 'maker', 'hard', '...</td>\n",
              "    </tr>\n",
              "    <tr>\n",
              "      <th>2</th>\n",
              "      <td>Coping with Covid-19 Shutdown: 200 families re...</td>\n",
              "      <td>coping with covid shutdown  families reaping b...</td>\n",
              "      <td>['coping', 'covid', 'shutdown', 'family', 'rea...</td>\n",
              "      <td>['cope', 'covid', 'shutdown', 'family', 'reapi...</td>\n",
              "    </tr>\n",
              "    <tr>\n",
              "      <th>3</th>\n",
              "      <td>7 family members, 4 police personnel test posi...</td>\n",
              "      <td>family members  police personnel test positiv...</td>\n",
              "      <td>['family', 'member', 'police', 'personnel', 't...</td>\n",
              "      <td>['family', 'member', 'test', 'positive', 'bogu...</td>\n",
              "    </tr>\n",
              "    <tr>\n",
              "      <th>4</th>\n",
              "      <td>Coronavirus: Health ministry issues 13 directi...</td>\n",
              "      <td>coronavirus health ministry issues  directives...</td>\n",
              "      <td>['coronavirus', 'health', 'ministry', 'issue',...</td>\n",
              "      <td>['issue', 'official', 'effort', 'contain', 'to...</td>\n",
              "    </tr>\n",
              "    <tr>\n",
              "      <th>5</th>\n",
              "      <td>Hasina Mohiuddin tests positive for Covid-19. ...</td>\n",
              "      <td>hasina mohiuddin tests positive for covid hasi...</td>\n",
              "      <td>['hasina', 'mohiuddin', 'test', 'positive', 'c...</td>\n",
              "      <td>['test', 'positive', 'wife', 'late', 'former',...</td>\n",
              "    </tr>\n",
              "    <tr>\n",
              "      <th>6</th>\n",
              "      <td>Bangabazar market shut for not ensuring Covid-...</td>\n",
              "      <td>bangabazar market shut for not ensuring covid ...</td>\n",
              "      <td>['bangabazar', 'market', 'shut', 'ensuring', '...</td>\n",
              "      <td>['bangabazar', 'market', 'shut', 'ensure', 'co...</td>\n",
              "    </tr>\n",
              "    <tr>\n",
              "      <th>7</th>\n",
              "      <td>Coronavirus outbreak: Japan provides 2,000 PPE...</td>\n",
              "      <td>coronavirus outbreak japan provides  ppes to b...</td>\n",
              "      <td>['coronavirus', 'outbreak', 'japan', 'provides...</td>\n",
              "      <td>['provide', 'ppe', 'hand', 'set', 'high', 'qua...</td>\n",
              "    </tr>\n",
              "    <tr>\n",
              "      <th>8</th>\n",
              "      <td>Gazipur city executive engineer found dead. Ga...</td>\n",
              "      <td>gazipur city executive engineer found dead gaz...</td>\n",
              "      <td>['gazipur', 'city', 'executive', 'engineer', '...</td>\n",
              "      <td>['engineer', 'find', 'dead', 'gazipur', 'execu...</td>\n",
              "    </tr>\n",
              "    <tr>\n",
              "      <th>9</th>\n",
              "      <td>10 of a family test Covid-19 positive in Chatt...</td>\n",
              "      <td>of a family test covid positive in chattogram...</td>\n",
              "      <td>['family', 'test', 'covid', 'positive', 'chatt...</td>\n",
              "      <td>['family', 'test', 'covid', 'positive', 'membe...</td>\n",
              "    </tr>\n",
              "  </tbody>\n",
              "</table>\n",
              "</div>"
            ],
            "text/plain": [
              "                                             Text_en  ...                                         data_ready\n",
              "0  Highest number of Covid-19 deaths in a day. Ni...  ...  ['high', 'number', 'death', 'day', 'people', '...\n",
              "1  Thrown out of job, Tangail’s chamcham makers p...  ...  ['throw', 'job', 'tangail', 'maker', 'hard', '...\n",
              "2  Coping with Covid-19 Shutdown: 200 families re...  ...  ['cope', 'covid', 'shutdown', 'family', 'reapi...\n",
              "3  7 family members, 4 police personnel test posi...  ...  ['family', 'member', 'test', 'positive', 'bogu...\n",
              "4  Coronavirus: Health ministry issues 13 directi...  ...  ['issue', 'official', 'effort', 'contain', 'to...\n",
              "5  Hasina Mohiuddin tests positive for Covid-19. ...  ...  ['test', 'positive', 'wife', 'late', 'former',...\n",
              "6  Bangabazar market shut for not ensuring Covid-...  ...  ['bangabazar', 'market', 'shut', 'ensure', 'co...\n",
              "7  Coronavirus outbreak: Japan provides 2,000 PPE...  ...  ['provide', 'ppe', 'hand', 'set', 'high', 'qua...\n",
              "8  Gazipur city executive engineer found dead. Ga...  ...  ['engineer', 'find', 'dead', 'gazipur', 'execu...\n",
              "9  10 of a family test Covid-19 positive in Chatt...  ...  ['family', 'test', 'covid', 'positive', 'membe...\n",
              "\n",
              "[10 rows x 4 columns]"
            ]
          },
          "metadata": {
            "tags": []
          },
          "execution_count": 5
        }
      ]
    },
    {
      "cell_type": "code",
      "metadata": {
        "id": "q2Jwg15Zjc51"
      },
      "source": [
        "def getSubjectivity(text):\n",
        "  text = str(text)\n",
        "  return TextBlob(text).sentiment.subjectivity\n",
        "\n",
        "def getPolarity(text):\n",
        "  text = str(text)\n",
        "  return TextBlob(text).sentiment.polarity\n",
        "\n",
        "df['Subjectivity'] = df['data_ready'].apply(getSubjectivity)\n",
        "df['Polarity'] = df['data_ready'].apply(getPolarity)\n"
      ],
      "execution_count": null,
      "outputs": []
    },
    {
      "cell_type": "code",
      "metadata": {
        "id": "cgv3f1SHlO39",
        "colab": {
          "base_uri": "https://localhost:8080/",
          "height": 589
        },
        "outputId": "70665eb0-288d-4e52-e162-fb54defbe9d7"
      },
      "source": [
        "df"
      ],
      "execution_count": null,
      "outputs": [
        {
          "output_type": "execute_result",
          "data": {
            "text/html": [
              "<div>\n",
              "<style scoped>\n",
              "    .dataframe tbody tr th:only-of-type {\n",
              "        vertical-align: middle;\n",
              "    }\n",
              "\n",
              "    .dataframe tbody tr th {\n",
              "        vertical-align: top;\n",
              "    }\n",
              "\n",
              "    .dataframe thead th {\n",
              "        text-align: right;\n",
              "    }\n",
              "</style>\n",
              "<table border=\"1\" class=\"dataframe\">\n",
              "  <thead>\n",
              "    <tr style=\"text-align: right;\">\n",
              "      <th></th>\n",
              "      <th>Text_en</th>\n",
              "      <th>Text_en_clean</th>\n",
              "      <th>data_words</th>\n",
              "      <th>data_ready</th>\n",
              "      <th>Subjectivity</th>\n",
              "      <th>Polarity</th>\n",
              "    </tr>\n",
              "  </thead>\n",
              "  <tbody>\n",
              "    <tr>\n",
              "      <th>0</th>\n",
              "      <td>Highest number of Covid-19 deaths in a day. Ni...</td>\n",
              "      <td>highest number of covid deaths in a day ninete...</td>\n",
              "      <td>['highest', 'number', 'covid', 'death', 'day',...</td>\n",
              "      <td>['high', 'number', 'death', 'day', 'people', '...</td>\n",
              "      <td>0.502471</td>\n",
              "      <td>0.062098</td>\n",
              "    </tr>\n",
              "    <tr>\n",
              "      <th>1</th>\n",
              "      <td>Thrown out of job, Tangail’s chamcham makers p...</td>\n",
              "      <td>thrown out of job tangails chamcham makers pas...</td>\n",
              "      <td>['thrown', 'job', 'tangails', 'chamcham', 'mak...</td>\n",
              "      <td>['throw', 'job', 'tangail', 'maker', 'hard', '...</td>\n",
              "      <td>0.445607</td>\n",
              "      <td>0.010945</td>\n",
              "    </tr>\n",
              "    <tr>\n",
              "      <th>2</th>\n",
              "      <td>Coping with Covid-19 Shutdown: 200 families re...</td>\n",
              "      <td>coping with covid shutdown  families reaping b...</td>\n",
              "      <td>['coping', 'covid', 'shutdown', 'family', 'rea...</td>\n",
              "      <td>['cope', 'covid', 'shutdown', 'family', 'reapi...</td>\n",
              "      <td>0.500805</td>\n",
              "      <td>0.113480</td>\n",
              "    </tr>\n",
              "    <tr>\n",
              "      <th>3</th>\n",
              "      <td>7 family members, 4 police personnel test posi...</td>\n",
              "      <td>family members  police personnel test positiv...</td>\n",
              "      <td>['family', 'member', 'police', 'personnel', 't...</td>\n",
              "      <td>['family', 'member', 'test', 'positive', 'bogu...</td>\n",
              "      <td>0.533182</td>\n",
              "      <td>0.060909</td>\n",
              "    </tr>\n",
              "    <tr>\n",
              "      <th>4</th>\n",
              "      <td>Coronavirus: Health ministry issues 13 directi...</td>\n",
              "      <td>coronavirus health ministry issues  directives...</td>\n",
              "      <td>['coronavirus', 'health', 'ministry', 'issue',...</td>\n",
              "      <td>['issue', 'official', 'effort', 'contain', 'to...</td>\n",
              "      <td>0.183333</td>\n",
              "      <td>0.050000</td>\n",
              "    </tr>\n",
              "    <tr>\n",
              "      <th>...</th>\n",
              "      <td>...</td>\n",
              "      <td>...</td>\n",
              "      <td>...</td>\n",
              "      <td>...</td>\n",
              "      <td>...</td>\n",
              "      <td>...</td>\n",
              "    </tr>\n",
              "    <tr>\n",
              "      <th>15560</th>\n",
              "      <td>The number of victims and deaths is increasing...</td>\n",
              "      <td>the number of victims and deaths is increasing...</td>\n",
              "      <td>['number', 'victim', 'death', 'increasing', 'l...</td>\n",
              "      <td>['number', 'victim', 'death']</td>\n",
              "      <td>0.050000</td>\n",
              "      <td>-0.075000</td>\n",
              "    </tr>\n",
              "    <tr>\n",
              "      <th>15561</th>\n",
              "      <td>India returns passengers in fear of coronaviru...</td>\n",
              "      <td>india returns passengers in fear of coronaviru...</td>\n",
              "      <td>['india', 'return', 'passenger', 'fear', 'coro...</td>\n",
              "      <td>['passenger', 'fear']</td>\n",
              "      <td>0.000000</td>\n",
              "      <td>0.000000</td>\n",
              "    </tr>\n",
              "    <tr>\n",
              "      <th>15562</th>\n",
              "      <td>Instructions to bring back the Bangladeshis tr...</td>\n",
              "      <td>instructions to bring back the bangladeshis tr...</td>\n",
              "      <td>['instruction', 'bring', 'back', 'bangladeshi'...</td>\n",
              "      <td>['instruction', 'trap', 'direct', 'strand', 'r...</td>\n",
              "      <td>0.414050</td>\n",
              "      <td>-0.016116</td>\n",
              "    </tr>\n",
              "    <tr>\n",
              "      <th>15563</th>\n",
              "      <td>Coronavirus: Control room opened in the Depart...</td>\n",
              "      <td>coronavirus control room opened in the departm...</td>\n",
              "      <td>['coronavirus', 'control', 'room', 'opened', '...</td>\n",
              "      <td>['open', 'department', 'health']</td>\n",
              "      <td>0.500000</td>\n",
              "      <td>0.000000</td>\n",
              "    </tr>\n",
              "    <tr>\n",
              "      <th>15564</th>\n",
              "      <td>Coronavirus: Warning at several borders. A war...</td>\n",
              "      <td>coronavirus warning at several borders a warni...</td>\n",
              "      <td>['coronavirus', 'warning', 'several', 'border'...</td>\n",
              "      <td>['warn', 'several', 'border', 'warning', 'issu...</td>\n",
              "      <td>0.214286</td>\n",
              "      <td>0.014286</td>\n",
              "    </tr>\n",
              "  </tbody>\n",
              "</table>\n",
              "<p>15565 rows × 6 columns</p>\n",
              "</div>"
            ],
            "text/plain": [
              "                                                 Text_en  ...  Polarity\n",
              "0      Highest number of Covid-19 deaths in a day. Ni...  ...  0.062098\n",
              "1      Thrown out of job, Tangail’s chamcham makers p...  ...  0.010945\n",
              "2      Coping with Covid-19 Shutdown: 200 families re...  ...  0.113480\n",
              "3      7 family members, 4 police personnel test posi...  ...  0.060909\n",
              "4      Coronavirus: Health ministry issues 13 directi...  ...  0.050000\n",
              "...                                                  ...  ...       ...\n",
              "15560  The number of victims and deaths is increasing...  ... -0.075000\n",
              "15561  India returns passengers in fear of coronaviru...  ...  0.000000\n",
              "15562  Instructions to bring back the Bangladeshis tr...  ... -0.016116\n",
              "15563  Coronavirus: Control room opened in the Depart...  ...  0.000000\n",
              "15564  Coronavirus: Warning at several borders. A war...  ...  0.014286\n",
              "\n",
              "[15565 rows x 6 columns]"
            ]
          },
          "metadata": {
            "tags": []
          },
          "execution_count": 8
        }
      ]
    },
    {
      "cell_type": "code",
      "metadata": {
        "id": "fU574MPAr4PB",
        "colab": {
          "base_uri": "https://localhost:8080/",
          "height": 256
        },
        "outputId": "040a579d-ee82-4258-bcda-a309925c5fe7"
      },
      "source": [
        "allWords = ' '.join([str(text) for text in df['data_ready']])\n",
        "wordCloud = WordCloud(width=1000,height=600,background_color='white',random_state=0,).generate(allWords)\n",
        "\n",
        "plt.imshow(wordCloud,interpolation='bilinear')\n",
        "plt.axis('off')\n",
        "plt.show()"
      ],
      "execution_count": null,
      "outputs": [
        {
          "output_type": "display_data",
          "data": {
            "image/png": "[encoded data removed]",
            "text/plain": [
              "<Figure size 432x288 with 1 Axes>"
            ]
          },
          "metadata": {
            "tags": []
          }
        }
      ]
    },
    {
      "cell_type": "code",
      "metadata": {
        "id": "1SSHUkihsBge"
      },
      "source": [
        "def getAnalysis(score):\n",
        "  if score < 0:\n",
        "    return 'Negative'\n",
        "  elif score == 0:\n",
        "    return 'Neutral'\n",
        "  else:\n",
        "    return 'Positive'"
      ],
      "execution_count": null,
      "outputs": []
    },
    {
      "cell_type": "code",
      "metadata": {
        "id": "dc8bi7uVRIhe"
      },
      "source": [
        "df['Analysis'] = df['Polarity'].apply(getAnalysis)\n",
        "df"
      ],
      "execution_count": null,
      "outputs": []
    },
    {
      "cell_type": "code",
      "metadata": {
        "id": "q7trLY0DsOEe",
        "colab": {
          "base_uri": "https://localhost:8080/",
          "height": 120
        },
        "outputId": "d0a1dfb6-adfa-45c0-8418-7bf406a5dd70"
      },
      "source": [
        "# Highest number of Covid-19 deaths in a day... we get positive polarity \n",
        "df.iloc[3,0]"
      ],
      "execution_count": null,
      "outputs": [
        {
          "output_type": "execute_result",
          "data": {
            "application/vnd.google.colaboratory.intrinsic+json": {
              "type": "string"
            },
            "text/plain": [
              "'7 family members, 4 police personnel test positive for Covid-19 in Bogura. At least eleven people tested positive for coronavirus in Bogura today. Of the 11, seven are members of one family, while four others are police personnel.\\n\\nThe family had returned from Dhaka on April 8 and most likely came in close contact with a Covid-19 patient who passed away recently, Mostafizur Rahman, deputy civil surgeon of Bogura, said.\\n\\nA total of 188 samples were tested at the lab of Bogura Shaheed Ziaur Rahman Medical College (SZMC), reports our local correspondent quoting the deputy civil surgeon.\\n\\nSince April 1, a total of 52 people in Bogura tested positive for coronavirus. Of them, nine recovered and seven are being treated at Mohammad Ali Hospital (which is dedicated for Covid-19 patients).\\n\\nThe rest of the patients are in isolation in their homes as they are not showing any symptoms, but had still tested positive.'"
            ]
          },
          "metadata": {
            "tags": []
          },
          "execution_count": 17
        }
      ]
    },
    {
      "cell_type": "code",
      "metadata": {
        "id": "IcTXHcLetl9h"
      },
      "source": [
        "from textblob import TextBlob\n",
        "from textblob.sentiments import NaiveBayesAnalyzer"
      ],
      "execution_count": null,
      "outputs": []
    },
    {
      "cell_type": "code",
      "metadata": {
        "id": "a08J1fUXCxx5",
        "colab": {
          "base_uri": "https://localhost:8080/",
          "height": 255
        },
        "outputId": "05ea0ffc-e793-4624-ff3d-75f8b4b87547"
      },
      "source": [
        "!python -m textblob.download_corpora"
      ],
      "execution_count": null,
      "outputs": [
        {
          "output_type": "stream",
          "text": [
            "[nltk_data] Downloading package brown to /root/nltk_data...\n",
            "[nltk_data]   Unzipping corpora/brown.zip.\n",
            "[nltk_data] Downloading package punkt to /root/nltk_data...\n",
            "[nltk_data]   Unzipping tokenizers/punkt.zip.\n",
            "[nltk_data] Downloading package wordnet to /root/nltk_data...\n",
            "[nltk_data]   Unzipping corpora/wordnet.zip.\n",
            "[nltk_data] Downloading package averaged_perceptron_tagger to\n",
            "[nltk_data]     /root/nltk_data...\n",
            "[nltk_data]   Unzipping taggers/averaged_perceptron_tagger.zip.\n",
            "[nltk_data] Downloading package conll2000 to /root/nltk_data...\n",
            "[nltk_data]   Unzipping corpora/conll2000.zip.\n",
            "[nltk_data] Downloading package movie_reviews to /root/nltk_data...\n",
            "[nltk_data]   Unzipping corpora/movie_reviews.zip.\n",
            "Finished.\n"
          ],
          "name": "stdout"
        }
      ]
    },
    {
      "cell_type": "markdown",
      "metadata": {
        "id": "8q8J7hbZyG6k"
      },
      "source": [
        "Naive Bayes Analyser"
      ]
    },
    {
      "cell_type": "code",
      "metadata": {
        "id": "y5Y9D9DFHgdC"
      },
      "source": [
        "def getSentimentNB(text):\n",
        "  text = str(text)\n",
        "  sentiment = TextBlob(text, analyzer=NaiveBayesAnalyzer()).sentiment\n",
        "  sentiment_pos = sentiment.p_pos\n",
        "  sentiment_neg = sentiment.p_neg\n",
        "  if sentiment.p_pos > sentiment.p_neg :\n",
        "    return 1\n",
        "  elif sentiment.p_pos < sentiment.p_neg :\n",
        "    return -1\n",
        "  else:\n",
        "    return 0"
      ],
      "execution_count": null,
      "outputs": []
    },
    {
      "cell_type": "code",
      "metadata": {
        "id": "YAOdtmwFzZcH",
        "colab": {
          "base_uri": "https://localhost:8080/",
          "height": 137
        },
        "outputId": "92439cba-3a0d-4c73-a53f-9ac675d42924"
      },
      "source": [
        "test = df.iloc[0,0]\n",
        "test"
      ],
      "execution_count": null,
      "outputs": [
        {
          "output_type": "execute_result",
          "data": {
            "application/vnd.google.colaboratory.intrinsic+json": {
              "type": "string"
            },
            "text/plain": [
              "'Highest number of Covid-19 deaths in a day. Nineteen people -- the highest number in 24 hours so far -- have died with coronavirus infections since yesterday, the Directorate General of Health Services (DGHS) said today.\\n\\nThe death toll now stands at 269, said Prof Dr Nasima Sultana, additional director general (administration) of DGHS, during a briefing.\\n\\nOne thousand one hundred and sixty-two people have tested positive for Covid-19 in the last 24 hours. This is also the highest in the span of 24 hours so far.\\n\\nWith this, the total number of infected has reached 17822.\\n\\nA total of 7,900 samples were tested in 41 labs across the country since yesterday, Dr Nasima added.\\n\\nMeanwhile, 214 Covid-19 patients have recovered around the country in the last 24 hours. The total recovery number stands at 3,361, the DGHS official said.\\n\\nAmong the deceased, seven were female, Dr Nasima said adding that one of them was a child, aged under 10. Of the others, one was 31-40 years old, seven between 51 and 60, five between 61 and 70, and the rest within 71-80 years old.\\n\\nTwelve of the deceased were from Dhaka city, one from Narayanganj, one from Munshiganj, one from Pabna, one from Narail, two from Chattogram and one from Cumilla, the official revealed.\\n\\nA total of 150 people were put under isolation in the last 24 hours, she added.'"
            ]
          },
          "metadata": {
            "tags": []
          },
          "execution_count": 50
        }
      ]
    },
    {
      "cell_type": "code",
      "metadata": {
        "id": "1U_N0YGdwPhu",
        "colab": {
          "base_uri": "https://localhost:8080/",
          "height": 34
        },
        "outputId": "eef92215-dd67-4024-ef01-3bb2a2fc0c3e"
      },
      "source": [
        "sentiment_test = getSentimentNB(test)\n",
        "sentiment = TextBlob(test, analyzer=NaiveBayesAnalyzer()).sentiment\n",
        "print(sentiment, sentiment_test)"
      ],
      "execution_count": null,
      "outputs": [
        {
          "output_type": "stream",
          "text": [
            "Sentiment(classification='pos', p_pos=0.9999825915438771, p_neg=1.7408456115017016e-05) 1\n"
          ],
          "name": "stdout"
        }
      ]
    },
    {
      "cell_type": "code",
      "metadata": {
        "id": "M35-HjUx0m1U",
        "colab": {
          "base_uri": "https://localhost:8080/",
          "height": 120
        },
        "outputId": "8ac61ecd-9d65-4a51-e51e-e3362b167f8d"
      },
      "source": [
        "test1 = df.iloc[3,0]\n",
        "test1"
      ],
      "execution_count": null,
      "outputs": [
        {
          "output_type": "execute_result",
          "data": {
            "application/vnd.google.colaboratory.intrinsic+json": {
              "type": "string"
            },
            "text/plain": [
              "'7 family members, 4 police personnel test positive for Covid-19 in Bogura. At least eleven people tested positive for coronavirus in Bogura today. Of the 11, seven are members of one family, while four others are police personnel.\\n\\nThe family had returned from Dhaka on April 8 and most likely came in close contact with a Covid-19 patient who passed away recently, Mostafizur Rahman, deputy civil surgeon of Bogura, said.\\n\\nA total of 188 samples were tested at the lab of Bogura Shaheed Ziaur Rahman Medical College (SZMC), reports our local correspondent quoting the deputy civil surgeon.\\n\\nSince April 1, a total of 52 people in Bogura tested positive for coronavirus. Of them, nine recovered and seven are being treated at Mohammad Ali Hospital (which is dedicated for Covid-19 patients).\\n\\nThe rest of the patients are in isolation in their homes as they are not showing any symptoms, but had still tested positive.'"
            ]
          },
          "metadata": {
            "tags": []
          },
          "execution_count": 53
        }
      ]
    },
    {
      "cell_type": "code",
      "metadata": {
        "id": "4LkV5MVP0rPh",
        "colab": {
          "base_uri": "https://localhost:8080/",
          "height": 34
        },
        "outputId": "02aa5f12-95ad-4a61-b246-f95e9eb7de8e"
      },
      "source": [
        "sentiment_test = getSentimentNB(test1)\n",
        "sentiment = TextBlob(test1, analyzer=NaiveBayesAnalyzer()).sentiment\n",
        "print(sentiment, sentiment_test)"
      ],
      "execution_count": null,
      "outputs": [
        {
          "output_type": "stream",
          "text": [
            "Sentiment(classification='pos', p_pos=0.9999713181851164, p_neg=2.8681814895036366e-05) 1\n"
          ],
          "name": "stdout"
        }
      ]
    },
    {
      "cell_type": "code",
      "metadata": {
        "id": "LFWlRIPB09Fp",
        "colab": {
          "base_uri": "https://localhost:8080/",
          "height": 120
        },
        "outputId": "2f72aeff-1195-4043-e83a-5111e421be64"
      },
      "source": [
        "# Remove word 'positive' \n",
        "test1_positive_out = test1.replace('positive', '')\n",
        "test1_positive_out"
      ],
      "execution_count": null,
      "outputs": [
        {
          "output_type": "execute_result",
          "data": {
            "application/vnd.google.colaboratory.intrinsic+json": {
              "type": "string"
            },
            "text/plain": [
              "\"['family', 'member', 'police', 'personnel', 'test', '', 'covid', 'bogura', 'least', 'eleven', 'people', 'tested', '', 'coronavirus', 'bogura', 'today', 'seven', 'member', 'one', 'family', 'four', 'others', 'police', 'personnelthe', 'family', 'returned', 'dhaka', 'april', 'likely', 'came', 'close', 'contact', 'covid', 'patient', 'passed', 'away', 'recently', 'mostafizur', 'rahman', 'deputy', 'civil', 'surgeon', 'bogura', 'saida', 'total', 'sample', 'tested', 'lab', 'bogura', 'shaheed', 'ziaur', 'rahman', 'medical', 'college', 'szmc', 'report', 'local', 'correspondent', 'quoting', 'deputy', 'civil', 'surgeonsince', 'april', 'total', 'people', 'bogura', 'tested', '', 'coronavirus', 'nine', 'recovered', 'seven', 'treated', 'mohammad', 'ali', 'hospital', 'dedicated', 'covid', 'patientsthe', 'rest', 'patient', 'isolation', 'home', 'showing', 'symptom', 'still', 'tested', '']\""
            ]
          },
          "metadata": {
            "tags": []
          },
          "execution_count": 45
        }
      ]
    },
    {
      "cell_type": "code",
      "metadata": {
        "id": "7HOIyQOV2MBC",
        "colab": {
          "base_uri": "https://localhost:8080/",
          "height": 34
        },
        "outputId": "722b4930-c3ae-4769-dac7-dad6360eebd4"
      },
      "source": [
        "sentiment_test = getSentimentNB(test1_positive_out)\n",
        "sentiment = TextBlob(test1_positive_out, analyzer=NaiveBayesAnalyzer()).sentiment\n",
        "print(sentiment, sentiment_test)"
      ],
      "execution_count": null,
      "outputs": [
        {
          "output_type": "stream",
          "text": [
            "Sentiment(classification='pos', p_pos=0.5, p_neg=0.5) 0\n"
          ],
          "name": "stdout"
        }
      ]
    },
    {
      "cell_type": "code",
      "metadata": {
        "id": "_PMDY3y52fCy",
        "colab": {
          "base_uri": "https://localhost:8080/",
          "height": 69
        },
        "outputId": "3ce93203-7646-4426-cae7-d9a5c2ce4cf5"
      },
      "source": [
        "test_pos_out_covid_virus = test1_positive_out.replace('covid', 'virus')\n",
        "test_pos_out_covid_virus"
      ],
      "execution_count": null,
      "outputs": [
        {
          "output_type": "execute_result",
          "data": {
            "application/vnd.google.colaboratory.intrinsic+json": {
              "type": "string"
            },
            "text/plain": [
              "\"['family', 'member', 'test', '', 'bogura', 'least', 'people', 'test', '', 'today', 'member', 'family', 'police', 'family', 'return', 'likely', 'close', 'contact', 'virus', 'patient', 'recently', 'deputy', 'total', 'sample', 'test', 'lab', 'report', 'local', 'deputy', 'civil', 'surgeonsince', 'total', 'people', 'test', '', 'recover', 'treat', 'hospital', 'dedicate', 'virus', 'patientsthe', 'rest', 'patient', 'isolation', 'home', 'show', 'symptom', 'still', 'test', '']\""
            ]
          },
          "metadata": {
            "tags": []
          },
          "execution_count": 35
        }
      ]
    },
    {
      "cell_type": "code",
      "metadata": {
        "id": "lqt2nZB62ss9",
        "colab": {
          "base_uri": "https://localhost:8080/",
          "height": 34
        },
        "outputId": "6a5c3d23-dba3-48c5-ffc1-0165d1dd5e7e"
      },
      "source": [
        "sentiment_test = getSentimentNB(test_pos_out_covid_virus)\n",
        "sentiment = TextBlob(test_pos_out_covid_virus, analyzer=NaiveBayesAnalyzer()).sentiment\n",
        "print(sentiment, sentiment_test)"
      ],
      "execution_count": null,
      "outputs": [
        {
          "output_type": "stream",
          "text": [
            "Sentiment(classification='pos', p_pos=0.5, p_neg=0.5) 0\n"
          ],
          "name": "stdout"
        }
      ]
    },
    {
      "cell_type": "code",
      "metadata": {
        "id": "HUIIHdVt3GI9",
        "colab": {
          "base_uri": "https://localhost:8080/",
          "height": 52
        },
        "outputId": "9eed55ec-caed-4c8a-d802-699408c528ae"
      },
      "source": [
        "test3 = df.iloc[15560,0]\n",
        "test3"
      ],
      "execution_count": null,
      "outputs": [
        {
          "output_type": "execute_result",
          "data": {
            "application/vnd.google.colaboratory.intrinsic+json": {
              "type": "string"
            },
            "text/plain": [
              "'The number of victims and deaths is increasing by leaps and bounds.                                                                                                                                                                                                                                                                                                                                                                                                                                       '"
            ]
          },
          "metadata": {
            "tags": []
          },
          "execution_count": 47
        }
      ]
    },
    {
      "cell_type": "code",
      "metadata": {
        "id": "wDC1Y-XU3LTi",
        "colab": {
          "base_uri": "https://localhost:8080/",
          "height": 34
        },
        "outputId": "021ac896-27be-4bc7-c91b-0aa06d353905"
      },
      "source": [
        "sentiment_test = getSentimentNB(test3)\n",
        "sentiment = TextBlob(test3, analyzer=NaiveBayesAnalyzer()).sentiment\n",
        "print(sentiment, sentiment_test)"
      ],
      "execution_count": null,
      "outputs": [
        {
          "output_type": "stream",
          "text": [
            "Sentiment(classification='pos', p_pos=0.7331060866158612, p_neg=0.26689391338413765) 1\n"
          ],
          "name": "stdout"
        }
      ]
    },
    {
      "cell_type": "markdown",
      "metadata": {
        "id": "vsdYOsAFBG2t"
      },
      "source": [
        "NLTK Analyser vader_lexicon"
      ]
    },
    {
      "cell_type": "code",
      "metadata": {
        "id": "c5VEvxZU99ak",
        "colab": {
          "base_uri": "https://localhost:8080/",
          "height": 51
        },
        "outputId": "96802c8f-1085-4d6e-810c-e78a0cf94cc4"
      },
      "source": [
        "import nltk\n",
        "nltk.download('vader_lexicon')\n",
        "from nltk.sentiment.vader import SentimentIntensityAnalyzer as SIA"
      ],
      "execution_count": null,
      "outputs": [
        {
          "output_type": "stream",
          "text": [
            "[nltk_data] Downloading package vader_lexicon to /root/nltk_data...\n",
            "[nltk_data]   Package vader_lexicon is already up-to-date!\n"
          ],
          "name": "stdout"
        }
      ]
    },
    {
      "cell_type": "code",
      "metadata": {
        "id": "LmF_rhO09sy_",
        "colab": {
          "base_uri": "https://localhost:8080/",
          "height": 52
        },
        "outputId": "5cffd7fc-521b-4256-825a-1aacc52a357e"
      },
      "source": [
        "test3 = df.iloc[15560,0]\n",
        "test3"
      ],
      "execution_count": null,
      "outputs": [
        {
          "output_type": "execute_result",
          "data": {
            "application/vnd.google.colaboratory.intrinsic+json": {
              "type": "string"
            },
            "text/plain": [
              "'The number of victims and deaths is increasing by leaps and bounds.                                                                                                                                                                                                                                                                                                                                                                                                                                       '"
            ]
          },
          "metadata": {
            "tags": []
          },
          "execution_count": 74
        }
      ]
    },
    {
      "cell_type": "code",
      "metadata": {
        "id": "81eIhgUi-vf2",
        "colab": {
          "base_uri": "https://localhost:8080/",
          "height": 34
        },
        "outputId": "82ca58bb-acc8-4282-ad37-17106e69c0e7"
      },
      "source": [
        "sia = SIA()\n",
        "sia.polarity_scores(test3)"
      ],
      "execution_count": null,
      "outputs": [
        {
          "output_type": "execute_result",
          "data": {
            "text/plain": [
              "{'compound': -0.25, 'neg': 0.169, 'neu': 0.735, 'pos': 0.096}"
            ]
          },
          "metadata": {
            "tags": []
          },
          "execution_count": 76
        }
      ]
    },
    {
      "cell_type": "code",
      "metadata": {
        "id": "SELtHAYaAgg7",
        "colab": {
          "base_uri": "https://localhost:8080/",
          "height": 137
        },
        "outputId": "33b6cd13-ede7-46fd-e6fd-bc761aa17c02"
      },
      "source": [
        "test = df.iloc[0,0]\n",
        "test"
      ],
      "execution_count": null,
      "outputs": [
        {
          "output_type": "execute_result",
          "data": {
            "application/vnd.google.colaboratory.intrinsic+json": {
              "type": "string"
            },
            "text/plain": [
              "'Highest number of Covid-19 deaths in a day. Nineteen people -- the highest number in 24 hours so far -- have died with coronavirus infections since yesterday, the Directorate General of Health Services (DGHS) said today.\\n\\nThe death toll now stands at 269, said Prof Dr Nasima Sultana, additional director general (administration) of DGHS, during a briefing.\\n\\nOne thousand one hundred and sixty-two people have tested positive for Covid-19 in the last 24 hours. This is also the highest in the span of 24 hours so far.\\n\\nWith this, the total number of infected has reached 17822.\\n\\nA total of 7,900 samples were tested in 41 labs across the country since yesterday, Dr Nasima added.\\n\\nMeanwhile, 214 Covid-19 patients have recovered around the country in the last 24 hours. The total recovery number stands at 3,361, the DGHS official said.\\n\\nAmong the deceased, seven were female, Dr Nasima said adding that one of them was a child, aged under 10. Of the others, one was 31-40 years old, seven between 51 and 60, five between 61 and 70, and the rest within 71-80 years old.\\n\\nTwelve of the deceased were from Dhaka city, one from Narayanganj, one from Munshiganj, one from Pabna, one from Narail, two from Chattogram and one from Cumilla, the official revealed.\\n\\nA total of 150 people were put under isolation in the last 24 hours, she added.'"
            ]
          },
          "metadata": {
            "tags": []
          },
          "execution_count": 83
        }
      ]
    },
    {
      "cell_type": "code",
      "metadata": {
        "id": "jwKwAozrBTRH",
        "colab": {
          "base_uri": "https://localhost:8080/",
          "height": 34
        },
        "outputId": "4e6d4fab-39f6-4e4c-d712-e1a06f34283a"
      },
      "source": [
        "sia.polarity_scores(test)"
      ],
      "execution_count": null,
      "outputs": [
        {
          "output_type": "execute_result",
          "data": {
            "text/plain": [
              "{'compound': -0.802, 'neg': 0.056, 'neu': 0.902, 'pos': 0.043}"
            ]
          },
          "metadata": {
            "tags": []
          },
          "execution_count": 84
        }
      ]
    },
    {
      "cell_type": "markdown",
      "metadata": {
        "id": "XCt3R782LAyu"
      },
      "source": [
        "Comparison chart"
      ]
    },
    {
      "cell_type": "code",
      "metadata": {
        "id": "PAPquIudHRaQ",
        "colab": {
          "base_uri": "https://localhost:8080/",
          "height": 873
        },
        "outputId": "0a7b613b-e9c0-460c-c7e8-498ec830bcf4"
      },
      "source": [
        "df_sample = df.sample(n=20, random_state=2)\n",
        "df_sample"
      ],
      "execution_count": null,
      "outputs": [
        {
          "output_type": "execute_result",
          "data": {
            "text/html": [
              "<div>\n",
              "<style scoped>\n",
              "    .dataframe tbody tr th:only-of-type {\n",
              "        vertical-align: middle;\n",
              "    }\n",
              "\n",
              "    .dataframe tbody tr th {\n",
              "        vertical-align: top;\n",
              "    }\n",
              "\n",
              "    .dataframe thead th {\n",
              "        text-align: right;\n",
              "    }\n",
              "</style>\n",
              "<table border=\"1\" class=\"dataframe\">\n",
              "  <thead>\n",
              "    <tr style=\"text-align: right;\">\n",
              "      <th></th>\n",
              "      <th>Text_en</th>\n",
              "      <th>Text_en_clean</th>\n",
              "      <th>data_words</th>\n",
              "      <th>data_ready</th>\n",
              "    </tr>\n",
              "  </thead>\n",
              "  <tbody>\n",
              "    <tr>\n",
              "      <th>3320</th>\n",
              "      <td>220 Australians leave Dhaka, 157 Bangladeshis ...</td>\n",
              "      <td>australians leave dhaka  bangladeshis return ...</td>\n",
              "      <td>['australian', 'leave', 'dhaka', 'bangladeshi'...</td>\n",
              "      <td>['leave', 'total', 'australian', 'citizen', 'f...</td>\n",
              "    </tr>\n",
              "    <tr>\n",
              "      <th>12858</th>\n",
              "      <td>The Prime Minister asked to run the campaign w...</td>\n",
              "      <td>the prime minister asked to run the campaign w...</td>\n",
              "      <td>['prime', 'minister', 'asked', 'campaign', 'ce...</td>\n",
              "      <td>['ask', 'campaign', 'celebrity', 'advise', 'cr...</td>\n",
              "    </tr>\n",
              "    <tr>\n",
              "      <th>8803</th>\n",
              "      <td>In one day, 3,239 lives were lost due to the c...</td>\n",
              "      <td>in one day  lives were lost due to the coronat...</td>\n",
              "      <td>['one', 'day', 'life', 'lost', 'due', 'coronat...</td>\n",
              "      <td>['day', 'life', 'lose', 'due', 'coronation', '...</td>\n",
              "    </tr>\n",
              "    <tr>\n",
              "      <th>14066</th>\n",
              "      <td>Two youths died in Barisal 6 hours apart.     ...</td>\n",
              "      <td>two youths died in barisal  hours apart       ...</td>\n",
              "      <td>['two', 'youth', 'died', 'barisal', 'hour', 'a...</td>\n",
              "      <td>['youth', 'die', 'hour', 'apart']</td>\n",
              "    </tr>\n",
              "    <tr>\n",
              "      <th>10953</th>\n",
              "      <td>3 more people of Gafargaon Health Complex are ...</td>\n",
              "      <td>more people of gafargaon health complex are a...</td>\n",
              "      <td>['people', 'gafargaon', 'health', 'complex', '...</td>\n",
              "      <td>['people', 'gafargaon', 'complex', 'affect']</td>\n",
              "    </tr>\n",
              "    <tr>\n",
              "      <th>3713</th>\n",
              "      <td>Saudi relaxes virus lockdown except in hotspot...</td>\n",
              "      <td>saudi relaxes virus lockdown except in hotspot...</td>\n",
              "      <td>['saudi', 'relaxes', 'virus', 'lockdown', 'exc...</td>\n",
              "      <td>['saudi', 'relax', 'virus', 'lockdown', 'parti...</td>\n",
              "    </tr>\n",
              "    <tr>\n",
              "      <th>773</th>\n",
              "      <td>741 police personnel infected with Covid-19. T...</td>\n",
              "      <td>police personnel infected with covid the numb...</td>\n",
              "      <td>['police', 'personnel', 'infected', 'covid', '...</td>\n",
              "      <td>['infect', 'covid', 'number', 'infect', 'count...</td>\n",
              "    </tr>\n",
              "    <tr>\n",
              "      <th>4351</th>\n",
              "      <td>China returnee student referred to Dhaka. A Ba...</td>\n",
              "      <td>china returnee student referred to dhaka a ban...</td>\n",
              "      <td>['china', 'returnee', 'student', 'referred', '...</td>\n",
              "      <td>['student', 'refer', 'student', 'admit', 'hosp...</td>\n",
              "    </tr>\n",
              "    <tr>\n",
              "      <th>7459</th>\n",
              "      <td>The Bangladeshi student bought the Corona kit ...</td>\n",
              "      <td>the bangladeshi student bought the corona kit ...</td>\n",
              "      <td>['bangladeshi', 'student', 'bought', 'corona',...</td>\n",
              "      <td>['student', 'buy', 'kit', 'send', 'country', '...</td>\n",
              "    </tr>\n",
              "    <tr>\n",
              "      <th>9145</th>\n",
              "      <td>The US-Canada border was closed due to the Cor...</td>\n",
              "      <td>the uscanada border was closed due to the coro...</td>\n",
              "      <td>['uscanada', 'border', 'closed', 'due', 'coron...</td>\n",
              "      <td>['close', 'due', 'corona', 'effect']</td>\n",
              "    </tr>\n",
              "    <tr>\n",
              "      <th>15013</th>\n",
              "      <td>Corona identified 94 new people in the country...</td>\n",
              "      <td>corona identified  new people in the country i...</td>\n",
              "      <td>['corona', 'identified', 'new', 'people', 'cou...</td>\n",
              "      <td>['identify', 'new', 'people', 'country', 'last...</td>\n",
              "    </tr>\n",
              "    <tr>\n",
              "      <th>7878</th>\n",
              "      <td>As soon as the incidence of corona decreased, ...</td>\n",
              "      <td>as soon as the incidence of corona decreased p...</td>\n",
              "      <td>['soon', 'incidence', 'corona', 'decreased', '...</td>\n",
              "      <td>['soon', 'incidence', 'corona', 'decrease', 'p...</td>\n",
              "    </tr>\n",
              "    <tr>\n",
              "      <th>1583</th>\n",
              "      <td>Google publishing user’s location data to help...</td>\n",
              "      <td>google publishing users location data to help ...</td>\n",
              "      <td>['google', 'publishing', 'user', 'location', '...</td>\n",
              "      <td>['publish', 'datum', 'help', 'fight', 'publish...</td>\n",
              "    </tr>\n",
              "    <tr>\n",
              "      <th>5887</th>\n",
              "      <td>Coronavirus: The number of recovery is also in...</td>\n",
              "      <td>coronavirus the number of recovery is also inc...</td>\n",
              "      <td>['coronavirus', 'number', 'recovery', 'increas...</td>\n",
              "      <td>['number', 'recovery', 'increase', 'day']</td>\n",
              "    </tr>\n",
              "    <tr>\n",
              "      <th>9359</th>\n",
              "      <td>Corona: How many people are affected in a dist...</td>\n",
              "      <td>corona how many people are affected in a distr...</td>\n",
              "      <td>['corona', 'people', 'affected', 'district', '...</td>\n",
              "      <td>['corona', 'people', 'affect', 'district', 'nu...</td>\n",
              "    </tr>\n",
              "    <tr>\n",
              "      <th>5900</th>\n",
              "      <td>Visitors to the hospital are prohibited until ...</td>\n",
              "      <td>visitors to the hospital are prohibited until ...</td>\n",
              "      <td>['visitor', 'hospital', 'prohibited', 'notice'...</td>\n",
              "      <td>['prohibit', 'deadly', 'world', 'invade', 'mea...</td>\n",
              "    </tr>\n",
              "    <tr>\n",
              "      <th>1000</th>\n",
              "      <td>Bangladesh reports first coronavirus death, nu...</td>\n",
              "      <td>bangladesh reports first coronavirus death num...</td>\n",
              "      <td>['bangladesh', 'report', 'first', 'coronavirus...</td>\n",
              "      <td>['report', 'first', 'death', 'number', 'active...</td>\n",
              "    </tr>\n",
              "    <tr>\n",
              "      <th>3341</th>\n",
              "      <td>Jail authorities start to release 2,884 inmate...</td>\n",
              "      <td>jail authorities start to release  inmates pri...</td>\n",
              "      <td>['jail', 'authority', 'start', 'release', 'inm...</td>\n",
              "      <td>['release', 'inmate', 'start', 'release', 'pri...</td>\n",
              "    </tr>\n",
              "    <tr>\n",
              "      <th>13774</th>\n",
              "      <td>Coronavirus, 5 in police custody in Dhaka on r...</td>\n",
              "      <td>coronavirus  in police custody in dhaka on rum...</td>\n",
              "      <td>['coronavirus', 'police', 'custody', 'dhaka', ...</td>\n",
              "      <td>['custody', 'dhaka', 'rumor', 'people', 'polic...</td>\n",
              "    </tr>\n",
              "    <tr>\n",
              "      <th>7041</th>\n",
              "      <td>Distribution of leaflets to prevent corona in ...</td>\n",
              "      <td>distribution of leaflets to prevent corona in ...</td>\n",
              "      <td>['distribution', 'leaflet', 'prevent', 'corona...</td>\n",
              "      <td>['distribution', 'leaflet']</td>\n",
              "    </tr>\n",
              "  </tbody>\n",
              "</table>\n",
              "</div>"
            ],
            "text/plain": [
              "                                                 Text_en  ...                                         data_ready\n",
              "3320   220 Australians leave Dhaka, 157 Bangladeshis ...  ...  ['leave', 'total', 'australian', 'citizen', 'f...\n",
              "12858  The Prime Minister asked to run the campaign w...  ...  ['ask', 'campaign', 'celebrity', 'advise', 'cr...\n",
              "8803   In one day, 3,239 lives were lost due to the c...  ...  ['day', 'life', 'lose', 'due', 'coronation', '...\n",
              "14066  Two youths died in Barisal 6 hours apart.     ...  ...                  ['youth', 'die', 'hour', 'apart']\n",
              "10953  3 more people of Gafargaon Health Complex are ...  ...       ['people', 'gafargaon', 'complex', 'affect']\n",
              "3713   Saudi relaxes virus lockdown except in hotspot...  ...  ['saudi', 'relax', 'virus', 'lockdown', 'parti...\n",
              "773    741 police personnel infected with Covid-19. T...  ...  ['infect', 'covid', 'number', 'infect', 'count...\n",
              "4351   China returnee student referred to Dhaka. A Ba...  ...  ['student', 'refer', 'student', 'admit', 'hosp...\n",
              "7459   The Bangladeshi student bought the Corona kit ...  ...  ['student', 'buy', 'kit', 'send', 'country', '...\n",
              "9145   The US-Canada border was closed due to the Cor...  ...               ['close', 'due', 'corona', 'effect']\n",
              "15013  Corona identified 94 new people in the country...  ...  ['identify', 'new', 'people', 'country', 'last...\n",
              "7878   As soon as the incidence of corona decreased, ...  ...  ['soon', 'incidence', 'corona', 'decrease', 'p...\n",
              "1583   Google publishing user’s location data to help...  ...  ['publish', 'datum', 'help', 'fight', 'publish...\n",
              "5887   Coronavirus: The number of recovery is also in...  ...          ['number', 'recovery', 'increase', 'day']\n",
              "9359   Corona: How many people are affected in a dist...  ...  ['corona', 'people', 'affect', 'district', 'nu...\n",
              "5900   Visitors to the hospital are prohibited until ...  ...  ['prohibit', 'deadly', 'world', 'invade', 'mea...\n",
              "1000   Bangladesh reports first coronavirus death, nu...  ...  ['report', 'first', 'death', 'number', 'active...\n",
              "3341   Jail authorities start to release 2,884 inmate...  ...  ['release', 'inmate', 'start', 'release', 'pri...\n",
              "13774  Coronavirus, 5 in police custody in Dhaka on r...  ...  ['custody', 'dhaka', 'rumor', 'people', 'polic...\n",
              "7041   Distribution of leaflets to prevent corona in ...  ...                        ['distribution', 'leaflet']\n",
              "\n",
              "[20 rows x 4 columns]"
            ]
          },
          "metadata": {
            "tags": []
          },
          "execution_count": 105
        }
      ]
    },
    {
      "cell_type": "code",
      "metadata": {
        "id": "byDgMSQfG45H"
      },
      "source": [
        "from textblob import TextBlob\n",
        "from textblob import Blobber\n",
        "from textblob.sentiments import NaiveBayesAnalyzer\n",
        "\n",
        "blobber = Blobber(analyzer=NaiveBayesAnalyzer())\n",
        "\n",
        "def get_scores(content):\n",
        "    blob = TextBlob(content)\n",
        "    nb_blob = blobber(content)\n",
        "    sia_scores = sia.polarity_scores(content)\n",
        "    \n",
        "    return pd.Series({\n",
        "        'Text_en_clean': content,\n",
        "        'textblob': blob.sentiment.polarity,\n",
        "        'textblob_bayes': nb_blob.sentiment.p_pos - nb_blob.sentiment.p_neg,\n",
        "        'nltk': sia_scores['compound'],\n",
        "    })\n"
      ],
      "execution_count": null,
      "outputs": []
    },
    {
      "cell_type": "code",
      "metadata": {
        "id": "1We638bpH0p4",
        "colab": {
          "base_uri": "https://localhost:8080/",
          "height": 1000
        },
        "outputId": "8ab2031f-36db-4784-9b8d-48467c4efef2"
      },
      "source": [
        "scores = df_sample.Text_en_clean.apply(get_scores)\n",
        "scores.style.background_gradient(cmap='RdYlGn', axis=None, low=0.4, high=0.4)"
      ],
      "execution_count": null,
      "outputs": [
        {
          "output_type": "execute_result",
          "data": {
            "text/html": [
              "<style  type=\"text/css\" >\n",
              "#T_1c42f968_0d59_11eb_a1b2_0242ac1c0002row0_col1,#T_1c42f968_0d59_11eb_a1b2_0242ac1c0002row5_col1,#T_1c42f968_0d59_11eb_a1b2_0242ac1c0002row7_col1,#T_1c42f968_0d59_11eb_a1b2_0242ac1c0002row16_col1{\n",
              "            background-color:  #f8fcb6;\n",
              "            color:  #000000;\n",
              "        }#T_1c42f968_0d59_11eb_a1b2_0242ac1c0002row0_col2,#T_1c42f968_0d59_11eb_a1b2_0242ac1c0002row1_col2,#T_1c42f968_0d59_11eb_a1b2_0242ac1c0002row5_col2,#T_1c42f968_0d59_11eb_a1b2_0242ac1c0002row6_col2,#T_1c42f968_0d59_11eb_a1b2_0242ac1c0002row11_col2,#T_1c42f968_0d59_11eb_a1b2_0242ac1c0002row12_col2,#T_1c42f968_0d59_11eb_a1b2_0242ac1c0002row14_col2,#T_1c42f968_0d59_11eb_a1b2_0242ac1c0002row15_col2,#T_1c42f968_0d59_11eb_a1b2_0242ac1c0002row17_col2{\n",
              "            background-color:  #73c264;\n",
              "            color:  #000000;\n",
              "        }#T_1c42f968_0d59_11eb_a1b2_0242ac1c0002row0_col3{\n",
              "            background-color:  #7dc765;\n",
              "            color:  #000000;\n",
              "        }#T_1c42f968_0d59_11eb_a1b2_0242ac1c0002row1_col1{\n",
              "            background-color:  #f2faae;\n",
              "            color:  #000000;\n",
              "        }#T_1c42f968_0d59_11eb_a1b2_0242ac1c0002row1_col3{\n",
              "            background-color:  #abdb6d;\n",
              "            color:  #000000;\n",
              "        }#T_1c42f968_0d59_11eb_a1b2_0242ac1c0002row2_col1{\n",
              "            background-color:  #fee28f;\n",
              "            color:  #000000;\n",
              "        }#T_1c42f968_0d59_11eb_a1b2_0242ac1c0002row2_col2{\n",
              "            background-color:  #afdd70;\n",
              "            color:  #000000;\n",
              "        }#T_1c42f968_0d59_11eb_a1b2_0242ac1c0002row2_col3,#T_1c42f968_0d59_11eb_a1b2_0242ac1c0002row6_col3,#T_1c42f968_0d59_11eb_a1b2_0242ac1c0002row18_col3{\n",
              "            background-color:  #f7814c;\n",
              "            color:  #000000;\n",
              "        }#T_1c42f968_0d59_11eb_a1b2_0242ac1c0002row3_col1,#T_1c42f968_0d59_11eb_a1b2_0242ac1c0002row8_col1,#T_1c42f968_0d59_11eb_a1b2_0242ac1c0002row9_col3,#T_1c42f968_0d59_11eb_a1b2_0242ac1c0002row13_col1,#T_1c42f968_0d59_11eb_a1b2_0242ac1c0002row19_col1{\n",
              "            background-color:  #fffebe;\n",
              "            color:  #000000;\n",
              "        }#T_1c42f968_0d59_11eb_a1b2_0242ac1c0002row3_col2,#T_1c42f968_0d59_11eb_a1b2_0242ac1c0002row10_col1{\n",
              "            background-color:  #eef8a8;\n",
              "            color:  #000000;\n",
              "        }#T_1c42f968_0d59_11eb_a1b2_0242ac1c0002row3_col3{\n",
              "            background-color:  #fdc372;\n",
              "            color:  #000000;\n",
              "        }#T_1c42f968_0d59_11eb_a1b2_0242ac1c0002row4_col1{\n",
              "            background-color:  #f5fbb2;\n",
              "            color:  #000000;\n",
              "        }#T_1c42f968_0d59_11eb_a1b2_0242ac1c0002row4_col2{\n",
              "            background-color:  #d5ed88;\n",
              "            color:  #000000;\n",
              "        }#T_1c42f968_0d59_11eb_a1b2_0242ac1c0002row4_col3{\n",
              "            background-color:  #fff1a8;\n",
              "            color:  #000000;\n",
              "        }#T_1c42f968_0d59_11eb_a1b2_0242ac1c0002row5_col3{\n",
              "            background-color:  #f99355;\n",
              "            color:  #000000;\n",
              "        }#T_1c42f968_0d59_11eb_a1b2_0242ac1c0002row6_col1,#T_1c42f968_0d59_11eb_a1b2_0242ac1c0002row11_col1,#T_1c42f968_0d59_11eb_a1b2_0242ac1c0002row13_col3,#T_1c42f968_0d59_11eb_a1b2_0242ac1c0002row14_col1{\n",
              "            background-color:  #f7fcb4;\n",
              "            color:  #000000;\n",
              "        }#T_1c42f968_0d59_11eb_a1b2_0242ac1c0002row7_col2{\n",
              "            background-color:  #7fc866;\n",
              "            color:  #000000;\n",
              "        }#T_1c42f968_0d59_11eb_a1b2_0242ac1c0002row7_col3{\n",
              "            background-color:  #fca55d;\n",
              "            color:  #000000;\n",
              "        }#T_1c42f968_0d59_11eb_a1b2_0242ac1c0002row8_col2,#T_1c42f968_0d59_11eb_a1b2_0242ac1c0002row12_col1,#T_1c42f968_0d59_11eb_a1b2_0242ac1c0002row19_col3{\n",
              "            background-color:  #fdfebc;\n",
              "            color:  #000000;\n",
              "        }#T_1c42f968_0d59_11eb_a1b2_0242ac1c0002row8_col3{\n",
              "            background-color:  #c7e77f;\n",
              "            color:  #000000;\n",
              "        }#T_1c42f968_0d59_11eb_a1b2_0242ac1c0002row9_col1{\n",
              "            background-color:  #fff5ae;\n",
              "            color:  #000000;\n",
              "        }#T_1c42f968_0d59_11eb_a1b2_0242ac1c0002row9_col2{\n",
              "            background-color:  #b9e176;\n",
              "            color:  #000000;\n",
              "        }#T_1c42f968_0d59_11eb_a1b2_0242ac1c0002row10_col2{\n",
              "            background-color:  #e9f6a1;\n",
              "            color:  #000000;\n",
              "        }#T_1c42f968_0d59_11eb_a1b2_0242ac1c0002row10_col3{\n",
              "            background-color:  #fed481;\n",
              "            color:  #000000;\n",
              "        }#T_1c42f968_0d59_11eb_a1b2_0242ac1c0002row11_col3{\n",
              "            background-color:  #cfeb85;\n",
              "            color:  #000000;\n",
              "        }#T_1c42f968_0d59_11eb_a1b2_0242ac1c0002row12_col3{\n",
              "            background-color:  #8ecf67;\n",
              "            color:  #000000;\n",
              "        }#T_1c42f968_0d59_11eb_a1b2_0242ac1c0002row13_col2{\n",
              "            background-color:  #89cc67;\n",
              "            color:  #000000;\n",
              "        }#T_1c42f968_0d59_11eb_a1b2_0242ac1c0002row14_col3{\n",
              "            background-color:  #f98e52;\n",
              "            color:  #000000;\n",
              "        }#T_1c42f968_0d59_11eb_a1b2_0242ac1c0002row15_col1{\n",
              "            background-color:  #feffbe;\n",
              "            color:  #000000;\n",
              "        }#T_1c42f968_0d59_11eb_a1b2_0242ac1c0002row15_col3{\n",
              "            background-color:  #f88950;\n",
              "            color:  #000000;\n",
              "        }#T_1c42f968_0d59_11eb_a1b2_0242ac1c0002row16_col2{\n",
              "            background-color:  #7ac665;\n",
              "            color:  #000000;\n",
              "        }#T_1c42f968_0d59_11eb_a1b2_0242ac1c0002row16_col3{\n",
              "            background-color:  #fca85e;\n",
              "            color:  #000000;\n",
              "        }#T_1c42f968_0d59_11eb_a1b2_0242ac1c0002row17_col1{\n",
              "            background-color:  #fffcba;\n",
              "            color:  #000000;\n",
              "        }#T_1c42f968_0d59_11eb_a1b2_0242ac1c0002row17_col3{\n",
              "            background-color:  #f67a49;\n",
              "            color:  #000000;\n",
              "        }#T_1c42f968_0d59_11eb_a1b2_0242ac1c0002row18_col1{\n",
              "            background-color:  #fffdbc;\n",
              "            color:  #000000;\n",
              "        }#T_1c42f968_0d59_11eb_a1b2_0242ac1c0002row18_col2{\n",
              "            background-color:  #96d268;\n",
              "            color:  #000000;\n",
              "        }#T_1c42f968_0d59_11eb_a1b2_0242ac1c0002row19_col2{\n",
              "            background-color:  #addc6f;\n",
              "            color:  #000000;\n",
              "        }</style><table id=\"T_1c42f968_0d59_11eb_a1b2_0242ac1c0002\" ><thead>    <tr>        <th class=\"blank level0\" ></th>        <th class=\"col_heading level0 col0\" >Text_en_clean</th>        <th class=\"col_heading level0 col1\" >textblob</th>        <th class=\"col_heading level0 col2\" >textblob_bayes</th>        <th class=\"col_heading level0 col3\" >nltk</th>    </tr></thead><tbody>\n",
              "                <tr>\n",
              "                        <th id=\"T_1c42f968_0d59_11eb_a1b2_0242ac1c0002level0_row0\" class=\"row_heading level0 row0\" >3320</th>\n",
              "                        <td id=\"T_1c42f968_0d59_11eb_a1b2_0242ac1c0002row0_col0\" class=\"data row0 col0\" > australians leave dhaka  bangladeshis return home a total of  bangladeshi citizens return to the country while  australian citizens and their families left dhaka for melbourne early saturdaya total of  bangladeshi citizens who were stranded in australia due to the ban on international flights amid coronavirus outbreak returned home from melbourne early saturdaythe special sri lankan airlines flight landed at hazrat shahjalal international airport at about am on saturday after a stopover at colombothe high commission for bangladesh in canberra facilitated the return with support from authorities of bangladesh and australia and with active cooperation from the victorian bangladeshi community foundation and melton travel centre who were assigned to coordinate with intending passengers and manage funds and ticketing tasks said the ministry of foreign affairsinitially at its needs assessment template on its website the high commission received requests of  bangladesh origin persons in australia who expressed willingness to return to bangladeshbased on this estimate of  plus stranded bangladeshis seeking to return the high commission secured in principle approval of bangladesh authorities to accept special nonscheduled flight from australia and tried to charter a flight from sydney to dhakadrastic reduction in demand from the stranded bangladeshis compelled the high commission to charter sri lankan airlines to operate this flight from melbourneall passengers were notified to carry uptodate covid symptomfree or covid negative certificate issued within three days before departurebangladesh high commission thanked victorian bangladeshi community foundation melton travel centre bangladesh consulate general in sydney as well as sri lankan airlines for operationalising this nonscheduled flightin a separate incident a nonscheduled sri lanka airlines flight from dhaka to melbourne left with  australian citizens and their families early saturdaytogether with  passengers who departed from hazrat shahjalal international airport on april  over  have so far returned home to australia said the australian high commission in dhakathe high commission said that they for the second time in three weeks helped australian citizens permanent residents and their immediate families to return to australiaaustralian high commissioner to bangladesh jeremy bruer was present at the airport to see them offa number of high commission staff were also there to ensure the process went smoothly</td>\n",
              "                        <td id=\"T_1c42f968_0d59_11eb_a1b2_0242ac1c0002row0_col1\" class=\"data row0 col1\" >0.068263</td>\n",
              "                        <td id=\"T_1c42f968_0d59_11eb_a1b2_0242ac1c0002row0_col2\" class=\"data row0 col2\" >1.000000</td>\n",
              "                        <td id=\"T_1c42f968_0d59_11eb_a1b2_0242ac1c0002row0_col3\" class=\"data row0 col3\" >0.954500</td>\n",
              "            </tr>\n",
              "            <tr>\n",
              "                        <th id=\"T_1c42f968_0d59_11eb_a1b2_0242ac1c0002level0_row1\" class=\"row_heading level0 row1\" >12858</th>\n",
              "                        <td id=\"T_1c42f968_0d59_11eb_a1b2_0242ac1c0002row1_col0\" class=\"data row1 col0\" >the prime minister asked to run the campaign with celebrities and imams prime minister sheikh hasina has advised not to create panic over corona he urged more emphasis on publicity the prime minister made the remarks at a meeting of the national economic council nec here on thursday planning minister ma mannan briefed reporters after the nec meeting held at the planning commission he said the prime minister had said that panic could not be created with corona he also directed the ministry of information to increase publicity the prime minister asked the star celebrity to take initiative with the imams of the mosques he also directed the delivery of coronavirus testing equipment at the departmental level there is no doubt that the overall economy will suffer such could have an impact on national income asked whether there would be a lockdown like in other countries the planning minister said the time has not come for a lockdown the people of this country are not accustomed to it not lockdown the government will gradually move towards strict measures we have to hope for the best and be prepared for the worst it is learned that the corona situation was discussed at the beginning of the nec meeting the protection of the people is emphasized there if there is any goal quarantine is suggested on its own initiative in todays nec meeting the revised annual development program adp was passed in the current financial year the size of the revised original adp is  lakh  thousand  crore taka of this government funding is  lakh  thousand  crore taka and foreign aid is  thousand crore taka  crore has been reduced in foreign aid besides there is an allocation of tk  crore for autonomous organizations</td>\n",
              "                        <td id=\"T_1c42f968_0d59_11eb_a1b2_0242ac1c0002row1_col1\" class=\"data row1 col1\" >0.121429</td>\n",
              "                        <td id=\"T_1c42f968_0d59_11eb_a1b2_0242ac1c0002row1_col2\" class=\"data row1 col2\" >1.000000</td>\n",
              "                        <td id=\"T_1c42f968_0d59_11eb_a1b2_0242ac1c0002row1_col3\" class=\"data row1 col3\" >0.685800</td>\n",
              "            </tr>\n",
              "            <tr>\n",
              "                        <th id=\"T_1c42f968_0d59_11eb_a1b2_0242ac1c0002level0_row2\" class=\"row_heading level0 row2\" >8803</th>\n",
              "                        <td id=\"T_1c42f968_0d59_11eb_a1b2_0242ac1c0002row2_col0\" class=\"data row2 col0\" >in one day  lives were lost due to the coronation coronavirus violence is stopping around the world the deadly virus has already spread to  countries and regions  lakh  thousand people worldwide have been affected by its terrible claws of these  people have died meanwhile  people have died in the last  hours wednesday around the world</td>\n",
              "                        <td id=\"T_1c42f968_0d59_11eb_a1b2_0242ac1c0002row2_col1\" class=\"data row2 col1\" >-0.331250</td>\n",
              "                        <td id=\"T_1c42f968_0d59_11eb_a1b2_0242ac1c0002row2_col2\" class=\"data row2 col2\" >0.658593</td>\n",
              "                        <td id=\"T_1c42f968_0d59_11eb_a1b2_0242ac1c0002row2_col3\" class=\"data row2 col3\" >-0.957800</td>\n",
              "            </tr>\n",
              "            <tr>\n",
              "                        <th id=\"T_1c42f968_0d59_11eb_a1b2_0242ac1c0002level0_row3\" class=\"row_heading level0 row3\" >14066</th>\n",
              "                        <td id=\"T_1c42f968_0d59_11eb_a1b2_0242ac1c0002row3_col0\" class=\"data row3 col0\" >two youths died in barisal  hours apart                                                                                                                                                                                                                                                                                                                                   </td>\n",
              "                        <td id=\"T_1c42f968_0d59_11eb_a1b2_0242ac1c0002row3_col1\" class=\"data row3 col1\" >0.000000</td>\n",
              "                        <td id=\"T_1c42f968_0d59_11eb_a1b2_0242ac1c0002row3_col2\" class=\"data row3 col2\" >0.168171</td>\n",
              "                        <td id=\"T_1c42f968_0d59_11eb_a1b2_0242ac1c0002row3_col3\" class=\"data row3 col3\" >-0.557400</td>\n",
              "            </tr>\n",
              "            <tr>\n",
              "                        <th id=\"T_1c42f968_0d59_11eb_a1b2_0242ac1c0002level0_row4\" class=\"row_heading level0 row4\" >10953</th>\n",
              "                        <td id=\"T_1c42f968_0d59_11eb_a1b2_0242ac1c0002row4_col0\" class=\"data row4 col0\" > more people of gafargaon health complex are affected                                                                                         </td>\n",
              "                        <td id=\"T_1c42f968_0d59_11eb_a1b2_0242ac1c0002row4_col1\" class=\"data row4 col1\" >0.100000</td>\n",
              "                        <td id=\"T_1c42f968_0d59_11eb_a1b2_0242ac1c0002row4_col2\" class=\"data row4 col2\" >0.390132</td>\n",
              "                        <td id=\"T_1c42f968_0d59_11eb_a1b2_0242ac1c0002row4_col3\" class=\"data row4 col3\" >-0.153100</td>\n",
              "            </tr>\n",
              "            <tr>\n",
              "                        <th id=\"T_1c42f968_0d59_11eb_a1b2_0242ac1c0002level0_row5\" class=\"row_heading level0 row5\" >3713</th>\n",
              "                        <td id=\"T_1c42f968_0d59_11eb_a1b2_0242ac1c0002row5_col0\" class=\"data row5 col0\" >saudi relaxes virus lockdown except in hotspot makkah saudi arabia on sunday partially eased a hour curfew in place to combat the coronavirus pandemic except for in hotspots including the muslim holy city of makkahthe curfew will be relaxed between am and pm and malls and retailers will be allowed to reopen in all regions of the kingdom until may  the official saudi press agency reportedbut a roundtheclock lockdown will be maintained in some areas including makkah which has reported the kingdoms highest number of infections in recent days despite being sealed offmany countries around the middle east and north africa have announced a similar easing of lockdown restrictions as muslims mark the holy fasting month of ramadansaudi arabia which has reported the highest number of infections in the arab world is scrambling to limit the spread of the disease at homeon saturday the health ministry said deaths from the respiratory illness had risen to  while confirmed infections rose to  with  people reported to have recovered from the illnesslast month saudi arabia suspended the yearround umrah pilgrimage over fears of the coronavirus pandemic spreading in islams holiest citiesauthorities are yet to announce whether they will proceed with this years hajj scheduled for the end of july but they have urged muslims to temporarily defer preparations for the annual pilgrimagelast year some  million faithful travelled to saudi arabia from across the world to participate in the hajj which muslims are obliged to perform at least once in their lives if ablethe arab worlds biggest economy has also closed cinemas malls and restaurants and halted flights as it attempts to contain the virusking salman has warned of a more difficult fight ahead against the virus as the kingdom faces the economic impact of virusled shutdowns and crashing oil prices</td>\n",
              "                        <td id=\"T_1c42f968_0d59_11eb_a1b2_0242ac1c0002row5_col1\" class=\"data row5 col1\" >0.063636</td>\n",
              "                        <td id=\"T_1c42f968_0d59_11eb_a1b2_0242ac1c0002row5_col2\" class=\"data row5 col2\" >1.000000</td>\n",
              "                        <td id=\"T_1c42f968_0d59_11eb_a1b2_0242ac1c0002row5_col3\" class=\"data row5 col3\" >-0.854000</td>\n",
              "            </tr>\n",
              "            <tr>\n",
              "                        <th id=\"T_1c42f968_0d59_11eb_a1b2_0242ac1c0002level0_row6\" class=\"row_heading level0 row6\" >773</th>\n",
              "                        <td id=\"T_1c42f968_0d59_11eb_a1b2_0242ac1c0002row6_col0\" class=\"data row6 col0\" > police personnel infected with covid the number of covid infected police personnel across the country has reached  today noon according to a tally of bangladesh police headquartersthe figure was  till yesterday afternoonof the total infected  are from the dhaka metropolitan police dmp alonebesides a good number of infected personnel are from narayanganj gazipur and dhaka district sources in the police headquarters saidamong the infected  have so far recoveredso far five police personnel have died from the coronavirus infectionbesides  others are in isolation as they showed coronaviruslike symptoms while  others who were in close contact with the infected have been put in quarantinewith an increasing number of cases of police personnel being infected with the highly contagious virus the bed central police hospital in dhaka is struggling to accommodate patientsas the police barracks are overcrowded dhaka metropolitan police have rented at least seven hotels as well as made arrangements at some schools to keep its members in quarantine to prevent further spreadaround two lakh police members have been discharging their duties from their respective positions to ensure the safety of people amid the spread of coronavirus</td>\n",
              "                        <td id=\"T_1c42f968_0d59_11eb_a1b2_0242ac1c0002row6_col1\" class=\"data row6 col1\" >0.084444</td>\n",
              "                        <td id=\"T_1c42f968_0d59_11eb_a1b2_0242ac1c0002row6_col2\" class=\"data row6 col2\" >0.999962</td>\n",
              "                        <td id=\"T_1c42f968_0d59_11eb_a1b2_0242ac1c0002row6_col3\" class=\"data row6 col3\" >-0.961700</td>\n",
              "            </tr>\n",
              "            <tr>\n",
              "                        <th id=\"T_1c42f968_0d59_11eb_a1b2_0242ac1c0002level0_row7\" class=\"row_heading level0 row7\" >4351</th>\n",
              "                        <td id=\"T_1c42f968_0d59_11eb_a1b2_0242ac1c0002row7_col0\" class=\"data row7 col0\" >china returnee student referred to dhaka a bangladeshi student who had been admitted to rangpur medical college hospital after he fell ill following his return from china was transferred to the capitals kurmitola general hospital on mondaya student of yang hu university in china he was earlier released after a primary checkup at shahjalal international airport after landing there at am on sundaythe student started suffering from breathing difficulty and vomiting after he went home in lalmonirhat and was admitted to the rangpur hospital on sunday nightinstitute of epidemiology disease control and research director meerjady sabrina flora said in a media briefing at her office on monday that the student did not have coronavirus symptomshe has problems in the kidneyas he returned from china we have decided to admit him to kurmitola general hospital for observation she saidanother bangladeshi student returning from china who was admitted to rangpur medical college hospital on saturday has been declared not affected by coronavirus after iedcr teststhe iedcr director said that none was found infected with coronavirus in the country so fardirectorate general of health services director general abul kalam azad at an event at gulshan in the capital on monday also said that so far none was found infected with the virus in bangladeshthe number of deaths from chinas new coronavirus epidemic jumped to  on mondaythere are now more than  confirmed cases of coronavirus infection across chinathe world health organisation has already declared a global health emergency over the spread of coronavirus that has spread to over two dozen countries besides chinabangladesh has prepared to face the growing menace with preventive measures including screening at the ports of entry to bangladeshisolation units have been opened at all medical college hospitals and district hospitals across the countrybangladesh brought back  bangladeshis from wuhan of china the epicenter of the virus outbreak on february they remain quarantined near the dhaka airportthe new age correspondent in rangpur on monday reported that the china returnee student was kept at the rmch isolation unit under close observationon monday noon a medical board led by professor debendranath sarkar head of the rmch medicine department said in a news briefing that the student was admitted on sunday night with high fever and breathing difficultieshe vomited several times and as his condition was deteriorating he was referred to kurmitola general hospital in dhaka he said</td>\n",
              "                        <td id=\"T_1c42f968_0d59_11eb_a1b2_0242ac1c0002row7_col1\" class=\"data row7 col1\" >0.070114</td>\n",
              "                        <td id=\"T_1c42f968_0d59_11eb_a1b2_0242ac1c0002row7_col2\" class=\"data row7 col2\" >0.932272</td>\n",
              "                        <td id=\"T_1c42f968_0d59_11eb_a1b2_0242ac1c0002row7_col3\" class=\"data row7 col3\" >-0.757900</td>\n",
              "            </tr>\n",
              "            <tr>\n",
              "                        <th id=\"T_1c42f968_0d59_11eb_a1b2_0242ac1c0002level0_row8\" class=\"row_heading level0 row8\" >7459</th>\n",
              "                        <td id=\"T_1c42f968_0d59_11eb_a1b2_0242ac1c0002row8_col0\" class=\"data row8 col0\" >the bangladeshi student bought the corona kit and sent it to the country to save the scholarship money </td>\n",
              "                        <td id=\"T_1c42f968_0d59_11eb_a1b2_0242ac1c0002row8_col1\" class=\"data row8 col1\" >0.000000</td>\n",
              "                        <td id=\"T_1c42f968_0d59_11eb_a1b2_0242ac1c0002row8_col2\" class=\"data row8 col2\" >0.025619</td>\n",
              "                        <td id=\"T_1c42f968_0d59_11eb_a1b2_0242ac1c0002row8_col3\" class=\"data row8 col3\" >0.493900</td>\n",
              "            </tr>\n",
              "            <tr>\n",
              "                        <th id=\"T_1c42f968_0d59_11eb_a1b2_0242ac1c0002level0_row9\" class=\"row_heading level0 row9\" >9145</th>\n",
              "                        <td id=\"T_1c42f968_0d59_11eb_a1b2_0242ac1c0002row9_col0\" class=\"data row9 col0\" >the uscanada border was closed due to the corona effect                                                                                                                     </td>\n",
              "                        <td id=\"T_1c42f968_0d59_11eb_a1b2_0242ac1c0002row9_col1\" class=\"data row9 col1\" >-0.112500</td>\n",
              "                        <td id=\"T_1c42f968_0d59_11eb_a1b2_0242ac1c0002row9_col2\" class=\"data row9 col2\" >0.583172</td>\n",
              "                        <td id=\"T_1c42f968_0d59_11eb_a1b2_0242ac1c0002row9_col3\" class=\"data row9 col3\" >0.000000</td>\n",
              "            </tr>\n",
              "            <tr>\n",
              "                        <th id=\"T_1c42f968_0d59_11eb_a1b2_0242ac1c0002level0_row10\" class=\"row_heading level0 row10\" >15013</th>\n",
              "                        <td id=\"T_1c42f968_0d59_11eb_a1b2_0242ac1c0002row10_col0\" class=\"data row10 col0\" >corona identified  new people in the country in the last  hours  more coronavirus patients have been identified in the country with this the number of people infected with coronavirus in the country stood at  this information was given by the director of the institute of pathology disease control and research iedcr prof dr mirzadi sebrina at a regular briefing of the department of health on friday afternoon</td>\n",
              "                        <td id=\"T_1c42f968_0d59_11eb_a1b2_0242ac1c0002row10_col1\" class=\"data row10 col1\" >0.159091</td>\n",
              "                        <td id=\"T_1c42f968_0d59_11eb_a1b2_0242ac1c0002row10_col2\" class=\"data row10 col2\" >0.201021</td>\n",
              "                        <td id=\"T_1c42f968_0d59_11eb_a1b2_0242ac1c0002row10_col3\" class=\"data row10 col3\" >-0.440400</td>\n",
              "            </tr>\n",
              "            <tr>\n",
              "                        <th id=\"T_1c42f968_0d59_11eb_a1b2_0242ac1c0002level0_row11\" class=\"row_heading level0 row11\" >7878</th>\n",
              "                        <td id=\"T_1c42f968_0d59_11eb_a1b2_0242ac1c0002row11_col0\" class=\"data row11 col0\" >as soon as the incidence of corona decreased people started eating dog and bat meat in china china did not learn from the corona epidemic with the outbreak of the deadly virus dwindling chinas meat markets are returning to their glory as before bats dogs and banrui are being sold in dedarchhe which the chinese enjoy with great joy according to a us media report the outbreak of corona has been reduced to a minimum in china scientists around the world are worried about the news of the sale of new dog and bat meat in the chinese market because the idea of scientists was the first corona spread from the meat of this bat meat markets in wuhan province became the epicenter of the first corona reopening the meat market could lead to new corona infections and if there is a new infection this time it will be much more dangerous than before experts say coronavirus was first seen in the chinese province of wuhan coronavirus infection has been reported in uhan since december  from there the marac virus gradually spread throughout the world although the infection is under control in china for the time being the impact is severe in other countries of the world it has been four months since the first corona patient was identified in china covid is not showing the same outbreak as before and thats when the chinese began to think corona is now a thing of the past it will no longer affect china scientists think this mentality is dangerous</td>\n",
              "                        <td id=\"T_1c42f968_0d59_11eb_a1b2_0242ac1c0002row11_col1\" class=\"data row11 col1\" >0.078822</td>\n",
              "                        <td id=\"T_1c42f968_0d59_11eb_a1b2_0242ac1c0002row11_col2\" class=\"data row11 col2\" >1.000000</td>\n",
              "                        <td id=\"T_1c42f968_0d59_11eb_a1b2_0242ac1c0002row11_col3\" class=\"data row11 col3\" >0.424200</td>\n",
              "            </tr>\n",
              "            <tr>\n",
              "                        <th id=\"T_1c42f968_0d59_11eb_a1b2_0242ac1c0002level0_row12\" class=\"row_heading level0 row12\" >1583</th>\n",
              "                        <td id=\"T_1c42f968_0d59_11eb_a1b2_0242ac1c0002row12_col0\" class=\"data row12 col0\" >google publishing users location data to help fight coronavirus google publishing users location data to help fight coronavirusgoogle is publishing publicly releasing the data its already collected data about peoples movements during the coronavirus epidemicthe company says it plans to release a series of community mobility reports to show people the places they are visiting across  countries and territories the first report was released on fridaygoogle hopes in a blog post that can track movement trends over time and help shape the government and public health officials response to the coronary virus epidemic through geographythe reports which contain data from two to three days earlier intend to spot trends in how people are behaving and responding to social distancing broken down by country and then by region the reports will show if people are headed to retail and grocery stores pharmacies parks workplaces and more itll also show how busy these places were before the pandemicthe company says that google has turned on location history settings in the service which created these results anonymously with data from users who are off by defaultit added that it will not disclose information that can be used to identify its users such as individual locations or contactsgoogle said in a blog post in addition to other resources that public health officials may have we hope these reports will help make decisions about how to handle the covid pandemic can shape or notify delivery service offers ray internetgy</td>\n",
              "                        <td id=\"T_1c42f968_0d59_11eb_a1b2_0242ac1c0002row12_col1\" class=\"data row12 col1\" >0.021627</td>\n",
              "                        <td id=\"T_1c42f968_0d59_11eb_a1b2_0242ac1c0002row12_col2\" class=\"data row12 col2\" >1.000000</td>\n",
              "                        <td id=\"T_1c42f968_0d59_11eb_a1b2_0242ac1c0002row12_col3\" class=\"data row12 col3\" >0.848100</td>\n",
              "            </tr>\n",
              "            <tr>\n",
              "                        <th id=\"T_1c42f968_0d59_11eb_a1b2_0242ac1c0002level0_row13\" class=\"row_heading level0 row13\" >5887</th>\n",
              "                        <td id=\"T_1c42f968_0d59_11eb_a1b2_0242ac1c0002row13_col0\" class=\"data row13 col0\" >coronavirus the number of recovery is also increasing every day                                   </td>\n",
              "                        <td id=\"T_1c42f968_0d59_11eb_a1b2_0242ac1c0002row13_col1\" class=\"data row13 col1\" >0.000000</td>\n",
              "                        <td id=\"T_1c42f968_0d59_11eb_a1b2_0242ac1c0002row13_col2\" class=\"data row13 col2\" >0.881103</td>\n",
              "                        <td id=\"T_1c42f968_0d59_11eb_a1b2_0242ac1c0002row13_col3\" class=\"data row13 col3\" >0.077200</td>\n",
              "            </tr>\n",
              "            <tr>\n",
              "                        <th id=\"T_1c42f968_0d59_11eb_a1b2_0242ac1c0002level0_row14\" class=\"row_heading level0 row14\" >9359</th>\n",
              "                        <td id=\"T_1c42f968_0d59_11eb_a1b2_0242ac1c0002row14_col0\" class=\"data row14 col0\" >corona how many people are affected in a district the number of corona victims is increasing rapidly eleven more people have died of coronavirus in the last  hours the total death toll stood at  people and in the last  hours a maximum of  people have been infected in one day so far the total number of victims stands at  besides  people have returned home after recovering at this time a total of  people have recovered this information was given at the regular online briefing of the department of health in mohakhali on monday additional director general administration of the department prof nasima sultana according to the department of health the number of affected people in different districts of the country is  dhaka  narayanganj  gazipur  mymensingh  chittagong  munshiganj  kishoreganj  comilla  narsingdi  rangpur  jamalpur   jessore  habiganj  netrokona  laxmipur  shariatpur  brahmanbaria  gopalganj  chandpur  madaripur  barisal  dinajpur  joypurhat  nilphamari  barnaigah  sunamganj  sunamganj    sherpur  kurigram  moulvibazar  tangail  noakhali  manikganj  patuakhali  rajshahi  gaibandha  naogaon  faridpur  chuadanga  rajbari  khulna  thakurgaon  pabna  bogra  chapainawabganj  lalmonirhat  jhalokati  narail  natore  magura  panchagarh  feni  pirojpur  bhola  sirajganj  meherpur  bandarban  satkhira  ranga  bagerhat  and khagrachhari  it may be mentioned that iedcr identified the first corona patient in the country on march  one person died of coronavirus for the first time in the country  days later after that the news of a few new infected patients was received at first but in the last few days this number has been increasing by leaps and bounds</td>\n",
              "                        <td id=\"T_1c42f968_0d59_11eb_a1b2_0242ac1c0002row14_col1\" class=\"data row14 col1\" >0.086124</td>\n",
              "                        <td id=\"T_1c42f968_0d59_11eb_a1b2_0242ac1c0002row14_col2\" class=\"data row14 col2\" >0.999758</td>\n",
              "                        <td id=\"T_1c42f968_0d59_11eb_a1b2_0242ac1c0002row14_col3\" class=\"data row14 col3\" >-0.888900</td>\n",
              "            </tr>\n",
              "            <tr>\n",
              "                        <th id=\"T_1c42f968_0d59_11eb_a1b2_0242ac1c0002level0_row15\" class=\"row_heading level0 row15\" >5900</th>\n",
              "                        <td id=\"T_1c42f968_0d59_11eb_a1b2_0242ac1c0002row15_col0\" class=\"data row15 col0\" >visitors to the hospital are prohibited until further notice the deadly coronavirus that has spread all over the world has also invaded bangladesh in the meantime  people have been infected with the virus and two have died meanwhile the department of health has banned visitors from entering the countrys hospitals until further notice to prevent the spread of corona on saturday a letter was issued to all the specialized institutes medical college hospitals district headquarters hospitals civil surgeons and other concerned the letter further states that the attendant with the patient should be discouraged and an attendant with a patient may be allowed if absolutely necessary</td>\n",
              "                        <td id=\"T_1c42f968_0d59_11eb_a1b2_0242ac1c0002row15_col1\" class=\"data row15 col1\" >0.008333</td>\n",
              "                        <td id=\"T_1c42f968_0d59_11eb_a1b2_0242ac1c0002row15_col2\" class=\"data row15 col2\" >0.999748</td>\n",
              "                        <td id=\"T_1c42f968_0d59_11eb_a1b2_0242ac1c0002row15_col3\" class=\"data row15 col3\" >-0.908100</td>\n",
              "            </tr>\n",
              "            <tr>\n",
              "                        <th id=\"T_1c42f968_0d59_11eb_a1b2_0242ac1c0002level0_row16\" class=\"row_heading level0 row16\" >1000</th>\n",
              "                        <td id=\"T_1c42f968_0d59_11eb_a1b2_0242ac1c0002row16_col0\" class=\"data row16 col0\" >bangladesh reports first coronavirus death number of active cases now  a bangladeshi  who tested positive for coronavirus infection  has died prof meerjady sabrina flora director of institute of epidemiology disease control and research iedcr said todaythe patient was over  years old she said while talking to journalists during a press briefing at iedcrthe patient had multiple preexisting complications like chronic obstructive pulmonary disease copd high blood pressure heart problems and diabetes the director said adding that he had heart stenting done previouslythe current number of coronavirus affected people in the country in  the director said a total of  people have been kept in isolation while  are kept in institutionalised quarantine she addediedcr has tested samples from  people in the last  hours so far the institution has tested  samples</td>\n",
              "                        <td id=\"T_1c42f968_0d59_11eb_a1b2_0242ac1c0002row16_col1\" class=\"data row16 col1\" >0.070394</td>\n",
              "                        <td id=\"T_1c42f968_0d59_11eb_a1b2_0242ac1c0002row16_col2\" class=\"data row16 col2\" >0.957517</td>\n",
              "                        <td id=\"T_1c42f968_0d59_11eb_a1b2_0242ac1c0002row16_col3\" class=\"data row16 col3\" >-0.743000</td>\n",
              "            </tr>\n",
              "            <tr>\n",
              "                        <th id=\"T_1c42f968_0d59_11eb_a1b2_0242ac1c0002level0_row17\" class=\"row_heading level0 row17\" >3341</th>\n",
              "                        <td id=\"T_1c42f968_0d59_11eb_a1b2_0242ac1c0002row17_col0\" class=\"data row17 col0\" >jail authorities start to release  inmates prison authorities have started to release  prisoners jailed for one year or less for petty crimes as the government on april  reduced their sentences amid the outbreak of the novel coronavirusthe directorate of prisons sent the release orders to different jails on saturdaythe release orders came after a yearold prisoner and  prison guards at dhaka central jail tested positive for covid and  inmates were quarantined at different jails till mondayjail officials said that many of the listed prisoners failed to pay fine and they would be released after serving jail for their failure to pay the finesylhet central jail senior superintendent abdul jalil said that he released two inmates on saturday and two more on sunday but four others could not be released on sunday as they could not pay tk  in finesdhaka central jail senior superintendent said that he could not release four inmates on saturday as they could not paid finesa home ministry notification issued on april  said that the government decided to release the  inmates jailed for up to one year by reducing their sentences under section  of the code of criminal procedure in the wake of the novel coronavirus outbreakthe notification said that the convicts would be released in three phases  prisoners serving sentences for six months to one year in the first phase  months in the second phase and three months in the third phaseit also said that the remission of sentences of the inmates would come into effect only after realisation of their fineson april  the jail authorities recommended the release of  inmates  of whom were jailed for life and had served  years and  others were jailed for minor offencesadditional home secretary syed belal hossain said on sunday that the  lifesentenced prisoners were not being released now as the prime minister asked the authorities on april  not to release convicts of heinous crimeson april  the prime minister asked the ministry concerned to find ways to release convicts who were jailed for petty offences and those who had completed major part of their jail terms considering the growing coronavirus crisisa home ministry official said that it would not be possible to find out heinous crimes until the copies of the verdicts were provided to themthe jails are overcrowded as inmates are unable to seek bails and the police continue to arrest while the courts are closed since march  due to coronavirus holidayuntil may  there were  inmates   undertrials and   convicts  against the capacity of  in the countrys  jails according to the directorate of prisons</td>\n",
              "                        <td id=\"T_1c42f968_0d59_11eb_a1b2_0242ac1c0002row17_col1\" class=\"data row17 col1\" >-0.030706</td>\n",
              "                        <td id=\"T_1c42f968_0d59_11eb_a1b2_0242ac1c0002row17_col2\" class=\"data row17 col2\" >0.999999</td>\n",
              "                        <td id=\"T_1c42f968_0d59_11eb_a1b2_0242ac1c0002row17_col3\" class=\"data row17 col3\" >-0.993000</td>\n",
              "            </tr>\n",
              "            <tr>\n",
              "                        <th id=\"T_1c42f968_0d59_11eb_a1b2_0242ac1c0002level0_row18\" class=\"row_heading level0 row18\" >13774</th>\n",
              "                        <td id=\"T_1c42f968_0d59_11eb_a1b2_0242ac1c0002row18_col0\" class=\"data row18 col0\" >coronavirus  in police custody in dhaka on rumors five people have been taken into police custody for allegedly spreading coronavirus on social media and news portals they were taken into police custody from different parts of the capital on thursday night the five were taken into police custody from arambagh maghbazar and ramna in the capital a police official said they would be released after counseling sources in the cyber security and crime division of the dhaka metropolitan police dmp said the coronavirus covid had spread through social media facebook groups and various news portals two people died of it the five have been taken into custody on charges of spreading such rumors no reliable reports have been received that anyone in the capital has been attacked or killed nazmul islam additional deputy commissioner cyber security and crime division dmp told prothom alo that the cyber security and crime department will take action against those who are spreading confusion about the coronavirus and creating unrest in the minds of the people the five who were taken into police custody will be released after counseling</td>\n",
              "                        <td id=\"T_1c42f968_0d59_11eb_a1b2_0242ac1c0002row18_col1\" class=\"data row18 col1\" >-0.016667</td>\n",
              "                        <td id=\"T_1c42f968_0d59_11eb_a1b2_0242ac1c0002row18_col2\" class=\"data row18 col2\" >0.805895</td>\n",
              "                        <td id=\"T_1c42f968_0d59_11eb_a1b2_0242ac1c0002row18_col3\" class=\"data row18 col3\" >-0.962300</td>\n",
              "            </tr>\n",
              "            <tr>\n",
              "                        <th id=\"T_1c42f968_0d59_11eb_a1b2_0242ac1c0002level0_row19\" class=\"row_heading level0 row19\" >7041</th>\n",
              "                        <td id=\"T_1c42f968_0d59_11eb_a1b2_0242ac1c0002row19_col0\" class=\"data row19 col0\" >distribution of leaflets to prevent corona in kushtia                                      </td>\n",
              "                        <td id=\"T_1c42f968_0d59_11eb_a1b2_0242ac1c0002row19_col1\" class=\"data row19 col1\" >0.000000</td>\n",
              "                        <td id=\"T_1c42f968_0d59_11eb_a1b2_0242ac1c0002row19_col2\" class=\"data row19 col2\" >0.663043</td>\n",
              "                        <td id=\"T_1c42f968_0d59_11eb_a1b2_0242ac1c0002row19_col3\" class=\"data row19 col3\" >0.025800</td>\n",
              "            </tr>\n",
              "    </tbody></table>"
            ],
            "text/plain": [
              "<pandas.io.formats.style.Styler at 0x7f4c7bbefe80>"
            ]
          },
          "metadata": {
            "tags": []
          },
          "execution_count": 107
        }
      ]
    },
    {
      "cell_type": "markdown",
      "metadata": {
        "id": "SnTwhh7ILo82"
      },
      "source": [
        "Apply NLTK SIA to whole dataframe "
      ]
    },
    {
      "cell_type": "code",
      "metadata": {
        "id": "SI_AGy9zICGv",
        "colab": {
          "base_uri": "https://localhost:8080/",
          "height": 136
        },
        "outputId": "04880c71-4903-4371-a19e-d6236bc00ecf"
      },
      "source": [
        "import nltk\n",
        "nltk.download('vader_lexicon')\n",
        "nltk.download('movie_reviews')\n",
        "nltk.download('punkt')"
      ],
      "execution_count": null,
      "outputs": [
        {
          "output_type": "stream",
          "text": [
            "[nltk_data] Downloading package vader_lexicon to /root/nltk_data...\n",
            "[nltk_data]   Package vader_lexicon is already up-to-date!\n",
            "[nltk_data] Downloading package movie_reviews to /root/nltk_data...\n",
            "[nltk_data]   Package movie_reviews is already up-to-date!\n",
            "[nltk_data] Downloading package punkt to /root/nltk_data...\n",
            "[nltk_data]   Package punkt is already up-to-date!\n"
          ],
          "name": "stdout"
        },
        {
          "output_type": "execute_result",
          "data": {
            "text/plain": [
              "True"
            ]
          },
          "metadata": {
            "tags": []
          },
          "execution_count": 108
        }
      ]
    },
    {
      "cell_type": "code",
      "metadata": {
        "id": "4Y7kBkWnMDC3"
      },
      "source": [
        "from nltk.sentiment.vader import SentimentIntensityAnalyzer as SIA\n",
        "\n",
        "sia = SIA()\n",
        "def getcompound(text):\n",
        "  scores = sia.polarity_scores(str(text))\n",
        "  return scores['compound']"
      ],
      "execution_count": null,
      "outputs": []
    },
    {
      "cell_type": "code",
      "metadata": {
        "id": "kMmb30X1P3LG",
        "colab": {
          "base_uri": "https://localhost:8080/",
          "height": 34
        },
        "outputId": "5b637c24-5bfc-445d-f0b4-998efcd034be"
      },
      "source": [
        "scores = getcompound(\"This restaurant was great, but I'm not sure if I'll go there again.\")\n",
        "print(scores)"
      ],
      "execution_count": null,
      "outputs": [
        {
          "output_type": "stream",
          "text": [
            "0.0276\n"
          ],
          "name": "stdout"
        }
      ]
    },
    {
      "cell_type": "code",
      "metadata": {
        "id": "WonepvyvOzlM"
      },
      "source": [
        "scores = sia.polarity_scores(\"This restaurant was great, but I'm not sure if I'll go there again.\")"
      ],
      "execution_count": null,
      "outputs": []
    },
    {
      "cell_type": "code",
      "metadata": {
        "id": "dMBwBOLHPMSh",
        "colab": {
          "base_uri": "https://localhost:8080/",
          "height": 34
        },
        "outputId": "ac37dbc5-0773-427e-d8e4-1c826aa4edbe"
      },
      "source": [
        "print(scores['compound'])"
      ],
      "execution_count": null,
      "outputs": [
        {
          "output_type": "stream",
          "text": [
            "0.0276\n"
          ],
          "name": "stdout"
        }
      ]
    },
    {
      "cell_type": "code",
      "metadata": {
        "id": "IZ_WwKJbMzns"
      },
      "source": [
        "df['Compound'] = df['Text_en_clean'].apply(getcompound)"
      ],
      "execution_count": null,
      "outputs": []
    },
    {
      "cell_type": "code",
      "metadata": {
        "id": "T0qsrtzBNPVH",
        "colab": {
          "base_uri": "https://localhost:8080/",
          "height": 589
        },
        "outputId": "c0ffa7fc-0235-499c-cec6-4feb0ad324c5"
      },
      "source": [
        "df"
      ],
      "execution_count": null,
      "outputs": [
        {
          "output_type": "execute_result",
          "data": {
            "text/html": [
              "<div>\n",
              "<style scoped>\n",
              "    .dataframe tbody tr th:only-of-type {\n",
              "        vertical-align: middle;\n",
              "    }\n",
              "\n",
              "    .dataframe tbody tr th {\n",
              "        vertical-align: top;\n",
              "    }\n",
              "\n",
              "    .dataframe thead th {\n",
              "        text-align: right;\n",
              "    }\n",
              "</style>\n",
              "<table border=\"1\" class=\"dataframe\">\n",
              "  <thead>\n",
              "    <tr style=\"text-align: right;\">\n",
              "      <th></th>\n",
              "      <th>Text_en</th>\n",
              "      <th>Text_en_clean</th>\n",
              "      <th>data_words</th>\n",
              "      <th>data_ready</th>\n",
              "      <th>Compound</th>\n",
              "    </tr>\n",
              "  </thead>\n",
              "  <tbody>\n",
              "    <tr>\n",
              "      <th>0</th>\n",
              "      <td>Highest number of Covid-19 deaths in a day. Ni...</td>\n",
              "      <td>highest number of covid deaths in a day ninete...</td>\n",
              "      <td>['highest', 'number', 'covid', 'death', 'day',...</td>\n",
              "      <td>['high', 'number', 'death', 'day', 'people', '...</td>\n",
              "      <td>-0.8158</td>\n",
              "    </tr>\n",
              "    <tr>\n",
              "      <th>1</th>\n",
              "      <td>Thrown out of job, Tangail’s chamcham makers p...</td>\n",
              "      <td>thrown out of job tangails chamcham makers pas...</td>\n",
              "      <td>['thrown', 'job', 'tangails', 'chamcham', 'mak...</td>\n",
              "      <td>['throw', 'job', 'tangail', 'maker', 'hard', '...</td>\n",
              "      <td>0.6688</td>\n",
              "    </tr>\n",
              "    <tr>\n",
              "      <th>2</th>\n",
              "      <td>Coping with Covid-19 Shutdown: 200 families re...</td>\n",
              "      <td>coping with covid shutdown  families reaping b...</td>\n",
              "      <td>['coping', 'covid', 'shutdown', 'family', 'rea...</td>\n",
              "      <td>['cope', 'covid', 'shutdown', 'family', 'reapi...</td>\n",
              "      <td>0.9969</td>\n",
              "    </tr>\n",
              "    <tr>\n",
              "      <th>3</th>\n",
              "      <td>7 family members, 4 police personnel test posi...</td>\n",
              "      <td>family members  police personnel test positiv...</td>\n",
              "      <td>['family', 'member', 'police', 'personnel', 't...</td>\n",
              "      <td>['family', 'member', 'test', 'positive', 'bogu...</td>\n",
              "      <td>0.8990</td>\n",
              "    </tr>\n",
              "    <tr>\n",
              "      <th>4</th>\n",
              "      <td>Coronavirus: Health ministry issues 13 directi...</td>\n",
              "      <td>coronavirus health ministry issues  directives...</td>\n",
              "      <td>['coronavirus', 'health', 'ministry', 'issue',...</td>\n",
              "      <td>['issue', 'official', 'effort', 'contain', 'to...</td>\n",
              "      <td>-0.5719</td>\n",
              "    </tr>\n",
              "    <tr>\n",
              "      <th>...</th>\n",
              "      <td>...</td>\n",
              "      <td>...</td>\n",
              "      <td>...</td>\n",
              "      <td>...</td>\n",
              "      <td>...</td>\n",
              "    </tr>\n",
              "    <tr>\n",
              "      <th>15560</th>\n",
              "      <td>The number of victims and deaths is increasing...</td>\n",
              "      <td>the number of victims and deaths is increasing...</td>\n",
              "      <td>['number', 'victim', 'death', 'increasing', 'l...</td>\n",
              "      <td>['number', 'victim', 'death']</td>\n",
              "      <td>-0.2500</td>\n",
              "    </tr>\n",
              "    <tr>\n",
              "      <th>15561</th>\n",
              "      <td>India returns passengers in fear of coronaviru...</td>\n",
              "      <td>india returns passengers in fear of coronaviru...</td>\n",
              "      <td>['india', 'return', 'passenger', 'fear', 'coro...</td>\n",
              "      <td>['passenger', 'fear']</td>\n",
              "      <td>-0.4939</td>\n",
              "    </tr>\n",
              "    <tr>\n",
              "      <th>15562</th>\n",
              "      <td>Instructions to bring back the Bangladeshis tr...</td>\n",
              "      <td>instructions to bring back the bangladeshis tr...</td>\n",
              "      <td>['instruction', 'bring', 'back', 'bangladeshi'...</td>\n",
              "      <td>['instruction', 'trap', 'direct', 'strand', 'r...</td>\n",
              "      <td>-0.8158</td>\n",
              "    </tr>\n",
              "    <tr>\n",
              "      <th>15563</th>\n",
              "      <td>Coronavirus: Control room opened in the Depart...</td>\n",
              "      <td>coronavirus control room opened in the departm...</td>\n",
              "      <td>['coronavirus', 'control', 'room', 'opened', '...</td>\n",
              "      <td>['open', 'department', 'health']</td>\n",
              "      <td>0.0000</td>\n",
              "    </tr>\n",
              "    <tr>\n",
              "      <th>15564</th>\n",
              "      <td>Coronavirus: Warning at several borders. A war...</td>\n",
              "      <td>coronavirus warning at several borders a warni...</td>\n",
              "      <td>['coronavirus', 'warning', 'several', 'border'...</td>\n",
              "      <td>['warn', 'several', 'border', 'warning', 'issu...</td>\n",
              "      <td>-0.8481</td>\n",
              "    </tr>\n",
              "  </tbody>\n",
              "</table>\n",
              "<p>15565 rows × 5 columns</p>\n",
              "</div>"
            ],
            "text/plain": [
              "                                                 Text_en  ... Compound\n",
              "0      Highest number of Covid-19 deaths in a day. Ni...  ...  -0.8158\n",
              "1      Thrown out of job, Tangail’s chamcham makers p...  ...   0.6688\n",
              "2      Coping with Covid-19 Shutdown: 200 families re...  ...   0.9969\n",
              "3      7 family members, 4 police personnel test posi...  ...   0.8990\n",
              "4      Coronavirus: Health ministry issues 13 directi...  ...  -0.5719\n",
              "...                                                  ...  ...      ...\n",
              "15560  The number of victims and deaths is increasing...  ...  -0.2500\n",
              "15561  India returns passengers in fear of coronaviru...  ...  -0.4939\n",
              "15562  Instructions to bring back the Bangladeshis tr...  ...  -0.8158\n",
              "15563  Coronavirus: Control room opened in the Depart...  ...   0.0000\n",
              "15564  Coronavirus: Warning at several borders. A war...  ...  -0.8481\n",
              "\n",
              "[15565 rows x 5 columns]"
            ]
          },
          "metadata": {
            "tags": []
          },
          "execution_count": 139
        }
      ]
    },
    {
      "cell_type": "markdown",
      "metadata": {
        "id": "pWNanoOgWIOq"
      },
      "source": [
        "The Compound score is a metric that calculates the sum of all the lexicon ratings which have been normalized between -1(most extreme negative) and +1 (most extreme positive).\n",
        "\n",
        "It is also useful for researchers who would like to set standardized thresholds for classifying sentences as either positive, neutral, or negative. Typical threshold values (used in the literature cited on this page) are:\n",
        "\n",
        "- positive sentiment: compound score >= 0.05\n",
        "- neutral sentiment: (compound score > -0.05) and (compound score < 0.05)\n",
        "- negative sentiment: compound score <= -0.05"
      ]
    },
    {
      "cell_type": "code",
      "metadata": {
        "id": "V7mK3UGDSlFT"
      },
      "source": [
        "threshold = 0.05\n",
        "\n",
        "def get_analysis(score):\n",
        "  if score <= -0.05:\n",
        "    return 'Negative'\n",
        "  elif score >= 0.05:\n",
        "    return 'Positive'\n",
        "  else:\n",
        "    return 'Neutral'"
      ],
      "execution_count": null,
      "outputs": []
    },
    {
      "cell_type": "code",
      "metadata": {
        "id": "_d4TBAqqOuxz",
        "colab": {
          "base_uri": "https://localhost:8080/",
          "height": 589
        },
        "outputId": "17fd482e-9448-44a3-af33-792a1bbedd94"
      },
      "source": [
        "df['Analysis'] = df['Compound'].apply(get_analysis)\n",
        "df"
      ],
      "execution_count": null,
      "outputs": [
        {
          "output_type": "execute_result",
          "data": {
            "text/html": [
              "<div>\n",
              "<style scoped>\n",
              "    .dataframe tbody tr th:only-of-type {\n",
              "        vertical-align: middle;\n",
              "    }\n",
              "\n",
              "    .dataframe tbody tr th {\n",
              "        vertical-align: top;\n",
              "    }\n",
              "\n",
              "    .dataframe thead th {\n",
              "        text-align: right;\n",
              "    }\n",
              "</style>\n",
              "<table border=\"1\" class=\"dataframe\">\n",
              "  <thead>\n",
              "    <tr style=\"text-align: right;\">\n",
              "      <th></th>\n",
              "      <th>Text_en</th>\n",
              "      <th>Text_en_clean</th>\n",
              "      <th>data_words</th>\n",
              "      <th>data_ready</th>\n",
              "      <th>Compound</th>\n",
              "      <th>Analysis</th>\n",
              "    </tr>\n",
              "  </thead>\n",
              "  <tbody>\n",
              "    <tr>\n",
              "      <th>0</th>\n",
              "      <td>Highest number of Covid-19 deaths in a day. Ni...</td>\n",
              "      <td>highest number of covid deaths in a day ninete...</td>\n",
              "      <td>['highest', 'number', 'covid', 'death', 'day',...</td>\n",
              "      <td>['high', 'number', 'death', 'day', 'people', '...</td>\n",
              "      <td>-0.8158</td>\n",
              "      <td>Negative</td>\n",
              "    </tr>\n",
              "    <tr>\n",
              "      <th>1</th>\n",
              "      <td>Thrown out of job, Tangail’s chamcham makers p...</td>\n",
              "      <td>thrown out of job tangails chamcham makers pas...</td>\n",
              "      <td>['thrown', 'job', 'tangails', 'chamcham', 'mak...</td>\n",
              "      <td>['throw', 'job', 'tangail', 'maker', 'hard', '...</td>\n",
              "      <td>0.6688</td>\n",
              "      <td>Positive</td>\n",
              "    </tr>\n",
              "    <tr>\n",
              "      <th>2</th>\n",
              "      <td>Coping with Covid-19 Shutdown: 200 families re...</td>\n",
              "      <td>coping with covid shutdown  families reaping b...</td>\n",
              "      <td>['coping', 'covid', 'shutdown', 'family', 'rea...</td>\n",
              "      <td>['cope', 'covid', 'shutdown', 'family', 'reapi...</td>\n",
              "      <td>0.9969</td>\n",
              "      <td>Positive</td>\n",
              "    </tr>\n",
              "    <tr>\n",
              "      <th>3</th>\n",
              "      <td>7 family members, 4 police personnel test posi...</td>\n",
              "      <td>family members  police personnel test positiv...</td>\n",
              "      <td>['family', 'member', 'police', 'personnel', 't...</td>\n",
              "      <td>['family', 'member', 'test', 'positive', 'bogu...</td>\n",
              "      <td>0.8990</td>\n",
              "      <td>Positive</td>\n",
              "    </tr>\n",
              "    <tr>\n",
              "      <th>4</th>\n",
              "      <td>Coronavirus: Health ministry issues 13 directi...</td>\n",
              "      <td>coronavirus health ministry issues  directives...</td>\n",
              "      <td>['coronavirus', 'health', 'ministry', 'issue',...</td>\n",
              "      <td>['issue', 'official', 'effort', 'contain', 'to...</td>\n",
              "      <td>-0.5719</td>\n",
              "      <td>Negative</td>\n",
              "    </tr>\n",
              "    <tr>\n",
              "      <th>...</th>\n",
              "      <td>...</td>\n",
              "      <td>...</td>\n",
              "      <td>...</td>\n",
              "      <td>...</td>\n",
              "      <td>...</td>\n",
              "      <td>...</td>\n",
              "    </tr>\n",
              "    <tr>\n",
              "      <th>15560</th>\n",
              "      <td>The number of victims and deaths is increasing...</td>\n",
              "      <td>the number of victims and deaths is increasing...</td>\n",
              "      <td>['number', 'victim', 'death', 'increasing', 'l...</td>\n",
              "      <td>['number', 'victim', 'death']</td>\n",
              "      <td>-0.2500</td>\n",
              "      <td>Negative</td>\n",
              "    </tr>\n",
              "    <tr>\n",
              "      <th>15561</th>\n",
              "      <td>India returns passengers in fear of coronaviru...</td>\n",
              "      <td>india returns passengers in fear of coronaviru...</td>\n",
              "      <td>['india', 'return', 'passenger', 'fear', 'coro...</td>\n",
              "      <td>['passenger', 'fear']</td>\n",
              "      <td>-0.4939</td>\n",
              "      <td>Negative</td>\n",
              "    </tr>\n",
              "    <tr>\n",
              "      <th>15562</th>\n",
              "      <td>Instructions to bring back the Bangladeshis tr...</td>\n",
              "      <td>instructions to bring back the bangladeshis tr...</td>\n",
              "      <td>['instruction', 'bring', 'back', 'bangladeshi'...</td>\n",
              "      <td>['instruction', 'trap', 'direct', 'strand', 'r...</td>\n",
              "      <td>-0.8158</td>\n",
              "      <td>Negative</td>\n",
              "    </tr>\n",
              "    <tr>\n",
              "      <th>15563</th>\n",
              "      <td>Coronavirus: Control room opened in the Depart...</td>\n",
              "      <td>coronavirus control room opened in the departm...</td>\n",
              "      <td>['coronavirus', 'control', 'room', 'opened', '...</td>\n",
              "      <td>['open', 'department', 'health']</td>\n",
              "      <td>0.0000</td>\n",
              "      <td>Neutral</td>\n",
              "    </tr>\n",
              "    <tr>\n",
              "      <th>15564</th>\n",
              "      <td>Coronavirus: Warning at several borders. A war...</td>\n",
              "      <td>coronavirus warning at several borders a warni...</td>\n",
              "      <td>['coronavirus', 'warning', 'several', 'border'...</td>\n",
              "      <td>['warn', 'several', 'border', 'warning', 'issu...</td>\n",
              "      <td>-0.8481</td>\n",
              "      <td>Negative</td>\n",
              "    </tr>\n",
              "  </tbody>\n",
              "</table>\n",
              "<p>15565 rows × 6 columns</p>\n",
              "</div>"
            ],
            "text/plain": [
              "                                                 Text_en  ...  Analysis\n",
              "0      Highest number of Covid-19 deaths in a day. Ni...  ...  Negative\n",
              "1      Thrown out of job, Tangail’s chamcham makers p...  ...  Positive\n",
              "2      Coping with Covid-19 Shutdown: 200 families re...  ...  Positive\n",
              "3      7 family members, 4 police personnel test posi...  ...  Positive\n",
              "4      Coronavirus: Health ministry issues 13 directi...  ...  Negative\n",
              "...                                                  ...  ...       ...\n",
              "15560  The number of victims and deaths is increasing...  ...  Negative\n",
              "15561  India returns passengers in fear of coronaviru...  ...  Negative\n",
              "15562  Instructions to bring back the Bangladeshis tr...  ...  Negative\n",
              "15563  Coronavirus: Control room opened in the Depart...  ...   Neutral\n",
              "15564  Coronavirus: Warning at several borders. A war...  ...  Negative\n",
              "\n",
              "[15565 rows x 6 columns]"
            ]
          },
          "metadata": {
            "tags": []
          },
          "execution_count": 148
        }
      ]
    },
    {
      "cell_type": "code",
      "metadata": {
        "id": "Ux3rw2qrRAHU",
        "colab": {
          "base_uri": "https://localhost:8080/",
          "height": 85
        },
        "outputId": "13aac311-83ef-484b-a656-198345475d5d"
      },
      "source": [
        "df['Analysis'].value_counts()/df.shape[0]"
      ],
      "execution_count": null,
      "outputs": [
        {
          "output_type": "execute_result",
          "data": {
            "text/plain": [
              "Negative    0.587665\n",
              "Positive    0.252168\n",
              "Neutral     0.160167\n",
              "Name: Analysis, dtype: float64"
            ]
          },
          "metadata": {
            "tags": []
          },
          "execution_count": 150
        }
      ]
    },
    {
      "cell_type": "code",
      "metadata": {
        "id": "LoXZyvf4Rp2t"
      },
      "source": [
        ""
      ],
      "execution_count": null,
      "outputs": []
    }
  ]
}